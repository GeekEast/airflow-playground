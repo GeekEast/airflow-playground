{
 "cells": [
  {
   "cell_type": "markdown",
   "metadata": {},
   "source": [
    "## Prepare"
   ]
  },
  {
   "cell_type": "code",
   "execution_count": 1,
   "metadata": {},
   "outputs": [
    {
     "data": {
      "text/plain": [
       "True"
      ]
     },
     "execution_count": 1,
     "metadata": {},
     "output_type": "execute_result"
    }
   ],
   "source": [
    "import sys\n",
    "from dotenv import load_dotenv, find_dotenv\n",
    "\n",
    "# set PYTHONPATH to include dags.eng.xxxx, otherwise, it will raise module dags not found\n",
    "sys.path.append(\"..\")\n",
    "\n",
    "# load env specifying env file name\n",
    "load_dotenv(find_dotenv(\".env.qa\"), override=True)"
   ]
  },
  {
   "cell_type": "code",
   "execution_count": 2,
   "metadata": {},
   "outputs": [
    {
     "data": {
      "text/html": [
       "<pre style=\"white-space:pre;overflow-x:auto;line-height:normal;font-family:Menlo,'DejaVu Sans Mono',consolas,'Courier New',monospace\"><span style=\"color: #808000; text-decoration-color: #808000; font-weight: bold\">/Users/xiangt/Desktop/local-airflow/.venv/lib/python3.10/site-packages/airflow/configuration.py:</span><span style=\"color: #808000; text-decoration-color: #808000; font-weight: bold\">452</span><span style=\"color: #808000; text-decoration-color: #808000; font-weight: bold\"> DeprecationWarning</span><span style=\"color: #808000; text-decoration-color: #808000\">: The sql_alchemy_conn option in </span><span style=\"color: #808000; text-decoration-color: #808000; font-weight: bold\">[</span><span style=\"color: #808000; text-decoration-color: #808000\">core</span><span style=\"color: #808000; text-decoration-color: #808000; font-weight: bold\">]</span><span style=\"color: #808000; text-decoration-color: #808000\"> has been moved to the sql_alchemy_conn option in </span><span style=\"color: #808000; text-decoration-color: #808000; font-weight: bold\">[</span><span style=\"color: #808000; text-decoration-color: #808000\">database</span><span style=\"color: #808000; text-decoration-color: #808000; font-weight: bold\">]</span><span style=\"color: #808000; text-decoration-color: #808000\"> - the old setting has been used, but please update your config.</span>\n",
       "</pre>\n"
      ],
      "text/plain": [
       "\u001b[1;33m/Users/xiangt/Desktop/local-airflow/.venv/lib/python3.10/site-packages/airflow/\u001b[0m\u001b[1;33mconfiguration.py\u001b[0m\u001b[1;33m:\u001b[0m\u001b[1;33m452\u001b[0m\u001b[1;33m DeprecationWarning\u001b[0m\u001b[33m: The sql_alchemy_conn option in \u001b[0m\u001b[1;33m[\u001b[0m\u001b[33mcore\u001b[0m\u001b[1;33m]\u001b[0m\u001b[33m has been moved to the sql_alchemy_conn option in \u001b[0m\u001b[1;33m[\u001b[0m\u001b[33mdatabase\u001b[0m\u001b[1;33m]\u001b[0m\u001b[33m - the old setting has been used, but please update your config.\u001b[0m\n"
      ]
     },
     "metadata": {},
     "output_type": "display_data"
    },
    {
     "data": {
      "text/html": [
       "<pre style=\"white-space:pre;overflow-x:auto;line-height:normal;font-family:Menlo,'DejaVu Sans Mono',consolas,'Courier New',monospace\"><span style=\"color: #808000; text-decoration-color: #808000; font-weight: bold\">/Users/xiangt/Desktop/local-airflow/.venv/lib/python3.10/site-packages/airflow/configuration.py:</span><span style=\"color: #808000; text-decoration-color: #808000; font-weight: bold\">479</span><span style=\"color: #808000; text-decoration-color: #808000; font-weight: bold\"> FutureWarning</span><span style=\"color: #808000; text-decoration-color: #808000\">: The </span><span style=\"color: #808000; text-decoration-color: #808000\">'dag_default_view'</span><span style=\"color: #808000; text-decoration-color: #808000\"> setting in </span><span style=\"color: #808000; text-decoration-color: #808000; font-weight: bold\">[</span><span style=\"color: #808000; text-decoration-color: #808000\">webserver</span><span style=\"color: #808000; text-decoration-color: #808000; font-weight: bold\">]</span><span style=\"color: #808000; text-decoration-color: #808000\"> has the old default value of </span><span style=\"color: #808000; text-decoration-color: #808000\">'tree'</span><span style=\"color: #808000; text-decoration-color: #808000\">. This value has been changed to </span><span style=\"color: #808000; text-decoration-color: #808000\">'grid'</span><span style=\"color: #808000; text-decoration-color: #808000\"> in the running config, but please update your config before Apache Airflow </span><span style=\"color: #808000; text-decoration-color: #808000; font-weight: bold\">3.0</span><span style=\"color: #808000; text-decoration-color: #808000\">.</span>\n",
       "</pre>\n"
      ],
      "text/plain": [
       "\u001b[1;33m/Users/xiangt/Desktop/local-airflow/.venv/lib/python3.10/site-packages/airflow/\u001b[0m\u001b[1;33mconfiguration.py\u001b[0m\u001b[1;33m:\u001b[0m\u001b[1;33m479\u001b[0m\u001b[1;33m FutureWarning\u001b[0m\u001b[33m: The \u001b[0m\u001b[33m'dag_default_view'\u001b[0m\u001b[33m setting in \u001b[0m\u001b[1;33m[\u001b[0m\u001b[33mwebserver\u001b[0m\u001b[1;33m]\u001b[0m\u001b[33m has the old default value of \u001b[0m\u001b[33m'tree'\u001b[0m\u001b[33m. This value has been changed to \u001b[0m\u001b[33m'grid'\u001b[0m\u001b[33m in the running config, but please update your config before Apache Airflow \u001b[0m\u001b[1;33m3.0\u001b[0m\u001b[33m.\u001b[0m\n"
      ]
     },
     "metadata": {},
     "output_type": "display_data"
    },
    {
     "data": {
      "text/html": [
       "<pre style=\"white-space:pre;overflow-x:auto;line-height:normal;font-family:Menlo,'DejaVu Sans Mono',consolas,'Courier New',monospace\"><span style=\"color: #808000; text-decoration-color: #808000; font-weight: bold\">/Users/xiangt/Desktop/local-airflow/.venv/lib/python3.10/site-packages/airflow/configuration.py:</span><span style=\"color: #808000; text-decoration-color: #808000; font-weight: bold\">479</span><span style=\"color: #808000; text-decoration-color: #808000; font-weight: bold\"> FutureWarning</span><span style=\"color: #808000; text-decoration-color: #808000\">: The </span><span style=\"color: #808000; text-decoration-color: #808000\">'log_filename_template'</span><span style=\"color: #808000; text-decoration-color: #808000\"> setting in </span><span style=\"color: #808000; text-decoration-color: #808000; font-weight: bold\">[</span><span style=\"color: #808000; text-decoration-color: #808000\">logging</span><span style=\"color: #808000; text-decoration-color: #808000; font-weight: bold\">]</span><span style=\"color: #808000; text-decoration-color: #808000\"> has the old default value of </span><span style=\"color: #808000; text-decoration-color: #808000\">'{{ ti.dag_id }}/{{ ti.task_id }}/{{ ts }}/{{ try_number }}.log'</span><span style=\"color: #808000; text-decoration-color: #808000\">. This value has been changed to </span><span style=\"color: #808000; text-decoration-color: #808000\">'dag_id={{ ti.dag_id }}/run_id={{ ti.run_id }}/task_id={{ ti.task_id }}/{% if ti.map_index &gt;= 0 %}map_index={{ ti.map_index }}/{% endif %}attempt={{ try_number }}.log'</span><span style=\"color: #808000; text-decoration-color: #808000\"> in the running config, but please update your config before Apache Airflow </span><span style=\"color: #808000; text-decoration-color: #808000; font-weight: bold\">3.0</span><span style=\"color: #808000; text-decoration-color: #808000\">.</span>\n",
       "</pre>\n"
      ],
      "text/plain": [
       "\u001b[1;33m/Users/xiangt/Desktop/local-airflow/.venv/lib/python3.10/site-packages/airflow/\u001b[0m\u001b[1;33mconfiguration.py\u001b[0m\u001b[1;33m:\u001b[0m\u001b[1;33m479\u001b[0m\u001b[1;33m FutureWarning\u001b[0m\u001b[33m: The \u001b[0m\u001b[33m'log_filename_template'\u001b[0m\u001b[33m setting in \u001b[0m\u001b[1;33m[\u001b[0m\u001b[33mlogging\u001b[0m\u001b[1;33m]\u001b[0m\u001b[33m has the old default value of \u001b[0m\u001b[33m'\u001b[0m\u001b[33m{\u001b[0m\u001b[33m{\u001b[0m\u001b[33m ti.dag_id \u001b[0m\u001b[33m}\u001b[0m\u001b[33m}\u001b[0m\u001b[33m/\u001b[0m\u001b[33m{\u001b[0m\u001b[33m{\u001b[0m\u001b[33m ti.task_id \u001b[0m\u001b[33m}\u001b[0m\u001b[33m}\u001b[0m\u001b[33m/\u001b[0m\u001b[33m{\u001b[0m\u001b[33m{\u001b[0m\u001b[33m ts \u001b[0m\u001b[33m}\u001b[0m\u001b[33m}\u001b[0m\u001b[33m/\u001b[0m\u001b[33m{\u001b[0m\u001b[33m{\u001b[0m\u001b[33m try_number \u001b[0m\u001b[33m}\u001b[0m\u001b[33m}\u001b[0m\u001b[33m.log'\u001b[0m\u001b[33m. This value has been changed to \u001b[0m\u001b[33m'\u001b[0m\u001b[33mdag_id\u001b[0m\u001b[33m=\u001b[0m\u001b[33m{\u001b[0m\u001b[33m{\u001b[0m\u001b[33m ti.dag_id \u001b[0m\u001b[33m}\u001b[0m\u001b[33m}\u001b[0m\u001b[33m/\u001b[0m\u001b[33mrun_id\u001b[0m\u001b[33m=\u001b[0m\u001b[33m{\u001b[0m\u001b[33m{\u001b[0m\u001b[33m ti.run_id \u001b[0m\u001b[33m}\u001b[0m\u001b[33m}\u001b[0m\u001b[33m/\u001b[0m\u001b[33mtask_id\u001b[0m\u001b[33m=\u001b[0m\u001b[33m{\u001b[0m\u001b[33m{\u001b[0m\u001b[33m ti.task_id \u001b[0m\u001b[33m}\u001b[0m\u001b[33m}\u001b[0m\u001b[33m/\u001b[0m\u001b[33m{\u001b[0m\u001b[33m% if ti.map_index >= 0 %\u001b[0m\u001b[33m}\u001b[0m\u001b[33mmap_index\u001b[0m\u001b[33m=\u001b[0m\u001b[33m{\u001b[0m\u001b[33m{\u001b[0m\u001b[33m ti.map_index \u001b[0m\u001b[33m}\u001b[0m\u001b[33m}\u001b[0m\u001b[33m/\u001b[0m\u001b[33m{\u001b[0m\u001b[33m% endif %\u001b[0m\u001b[33m}\u001b[0m\u001b[33mattempt\u001b[0m\u001b[33m=\u001b[0m\u001b[33m{\u001b[0m\u001b[33m{\u001b[0m\u001b[33m try_number \u001b[0m\u001b[33m}\u001b[0m\u001b[33m}\u001b[0m\u001b[33m.log'\u001b[0m\u001b[33m in the running config, but please update your config before Apache Airflow \u001b[0m\u001b[1;33m3.0\u001b[0m\u001b[33m.\u001b[0m\n"
      ]
     },
     "metadata": {},
     "output_type": "display_data"
    },
    {
     "data": {
      "text/html": [
       "<pre style=\"white-space:pre;overflow-x:auto;line-height:normal;font-family:Menlo,'DejaVu Sans Mono',consolas,'Courier New',monospace\"><span style=\"color: #808000; text-decoration-color: #808000; font-weight: bold\">/Users/xiangt/Desktop/local-airflow/.venv/lib/python3.10/site-packages/airflow/configuration.py:</span><span style=\"color: #808000; text-decoration-color: #808000; font-weight: bold\">364</span><span style=\"color: #808000; text-decoration-color: #808000; font-weight: bold\"> DeprecationWarning</span><span style=\"color: #808000; text-decoration-color: #808000\">: The auth_backend option in </span><span style=\"color: #808000; text-decoration-color: #808000; font-weight: bold\">[</span><span style=\"color: #808000; text-decoration-color: #808000\">api</span><span style=\"color: #808000; text-decoration-color: #808000; font-weight: bold\">]</span><span style=\"color: #808000; text-decoration-color: #808000\"> has been renamed to auth_backends - the old setting has been used, but please update your config.</span>\n",
       "</pre>\n"
      ],
      "text/plain": [
       "\u001b[1;33m/Users/xiangt/Desktop/local-airflow/.venv/lib/python3.10/site-packages/airflow/\u001b[0m\u001b[1;33mconfiguration.py\u001b[0m\u001b[1;33m:\u001b[0m\u001b[1;33m364\u001b[0m\u001b[1;33m DeprecationWarning\u001b[0m\u001b[33m: The auth_backend option in \u001b[0m\u001b[1;33m[\u001b[0m\u001b[33mapi\u001b[0m\u001b[1;33m]\u001b[0m\u001b[33m has been renamed to auth_backends - the old setting has been used, but please update your config.\u001b[0m\n"
      ]
     },
     "metadata": {},
     "output_type": "display_data"
    },
    {
     "data": {
      "text/html": [
       "<pre style=\"white-space:pre;overflow-x:auto;line-height:normal;font-family:Menlo,'DejaVu Sans Mono',consolas,'Courier New',monospace\"><span style=\"color: #808000; text-decoration-color: #808000; font-weight: bold\">/Users/xiangt/Desktop/local-airflow/.venv/lib/python3.10/site-packages/airflow/configuration.py:</span><span style=\"color: #808000; text-decoration-color: #808000; font-weight: bold\">479</span><span style=\"color: #808000; text-decoration-color: #808000; font-weight: bold\"> FutureWarning</span><span style=\"color: #808000; text-decoration-color: #808000\">: The </span><span style=\"color: #808000; text-decoration-color: #808000\">'auth_backends'</span><span style=\"color: #808000; text-decoration-color: #808000\"> setting in </span><span style=\"color: #808000; text-decoration-color: #808000; font-weight: bold\">[</span><span style=\"color: #808000; text-decoration-color: #808000\">api</span><span style=\"color: #808000; text-decoration-color: #808000; font-weight: bold\">]</span><span style=\"color: #808000; text-decoration-color: #808000\"> has the old default value of </span><span style=\"color: #808000; text-decoration-color: #808000\">'airflow.api.auth.backend.deny_all'</span><span style=\"color: #808000; text-decoration-color: #808000\">. This value has been changed to </span><span style=\"color: #808000; text-decoration-color: #808000\">'airflow.api.auth.backend.session'</span><span style=\"color: #808000; text-decoration-color: #808000\"> in the running config, but please update your config before Apache Airflow </span><span style=\"color: #808000; text-decoration-color: #808000; font-weight: bold\">3.0</span><span style=\"color: #808000; text-decoration-color: #808000\">.</span>\n",
       "</pre>\n"
      ],
      "text/plain": [
       "\u001b[1;33m/Users/xiangt/Desktop/local-airflow/.venv/lib/python3.10/site-packages/airflow/\u001b[0m\u001b[1;33mconfiguration.py\u001b[0m\u001b[1;33m:\u001b[0m\u001b[1;33m479\u001b[0m\u001b[1;33m FutureWarning\u001b[0m\u001b[33m: The \u001b[0m\u001b[33m'auth_backends'\u001b[0m\u001b[33m setting in \u001b[0m\u001b[1;33m[\u001b[0m\u001b[33mapi\u001b[0m\u001b[1;33m]\u001b[0m\u001b[33m has the old default value of \u001b[0m\u001b[33m'airflow.api.auth.backend.deny_all'\u001b[0m\u001b[33m. This value has been changed to \u001b[0m\u001b[33m'airflow.api.auth.backend.session'\u001b[0m\u001b[33m in the running config, but please update your config before Apache Airflow \u001b[0m\u001b[1;33m3.0\u001b[0m\u001b[33m.\u001b[0m\n"
      ]
     },
     "metadata": {},
     "output_type": "display_data"
    },
    {
     "data": {
      "text/html": [
       "<pre style=\"white-space:pre;overflow-x:auto;line-height:normal;font-family:Menlo,'DejaVu Sans Mono',consolas,'Courier New',monospace\"><span style=\"color: #808000; text-decoration-color: #808000; font-weight: bold\">/Users/xiangt/Desktop/local-airflow/.venv/lib/python3.10/site-packages/airflow/configuration.py:</span><span style=\"color: #808000; text-decoration-color: #808000; font-weight: bold\">479</span><span style=\"color: #808000; text-decoration-color: #808000; font-weight: bold\"> FutureWarning</span><span style=\"color: #808000; text-decoration-color: #808000\">: The </span><span style=\"color: #808000; text-decoration-color: #808000\">'log_id_template'</span><span style=\"color: #808000; text-decoration-color: #808000\"> setting in </span><span style=\"color: #808000; text-decoration-color: #808000; font-weight: bold\">[</span><span style=\"color: #808000; text-decoration-color: #808000\">elasticsearch</span><span style=\"color: #808000; text-decoration-color: #808000; font-weight: bold\">]</span><span style=\"color: #808000; text-decoration-color: #808000\"> has the old default value of </span><span style=\"color: #808000; text-decoration-color: #808000\">'{dag_id}-{task_id}-{execution_date}-{try_number}'</span><span style=\"color: #808000; text-decoration-color: #808000\">. This value has been changed to </span><span style=\"color: #808000; text-decoration-color: #808000\">'{dag_id}-{task_id}-{run_id}-{map_index}-{try_number}'</span><span style=\"color: #808000; text-decoration-color: #808000\"> in the running config, but please update your config before Apache Airflow </span><span style=\"color: #808000; text-decoration-color: #808000; font-weight: bold\">3.0</span><span style=\"color: #808000; text-decoration-color: #808000\">.</span>\n",
       "</pre>\n"
      ],
      "text/plain": [
       "\u001b[1;33m/Users/xiangt/Desktop/local-airflow/.venv/lib/python3.10/site-packages/airflow/\u001b[0m\u001b[1;33mconfiguration.py\u001b[0m\u001b[1;33m:\u001b[0m\u001b[1;33m479\u001b[0m\u001b[1;33m FutureWarning\u001b[0m\u001b[33m: The \u001b[0m\u001b[33m'log_id_template'\u001b[0m\u001b[33m setting in \u001b[0m\u001b[1;33m[\u001b[0m\u001b[33melasticsearch\u001b[0m\u001b[1;33m]\u001b[0m\u001b[33m has the old default value of \u001b[0m\u001b[33m'\u001b[0m\u001b[33m{\u001b[0m\u001b[33mdag_id\u001b[0m\u001b[33m}\u001b[0m\u001b[33m-\u001b[0m\u001b[33m{\u001b[0m\u001b[33mtask_id\u001b[0m\u001b[33m}\u001b[0m\u001b[33m-\u001b[0m\u001b[33m{\u001b[0m\u001b[33mexecution_date\u001b[0m\u001b[33m}\u001b[0m\u001b[33m-\u001b[0m\u001b[33m{\u001b[0m\u001b[33mtry_number\u001b[0m\u001b[33m}\u001b[0m\u001b[33m'\u001b[0m\u001b[33m. This value has been changed to \u001b[0m\u001b[33m'\u001b[0m\u001b[33m{\u001b[0m\u001b[33mdag_id\u001b[0m\u001b[33m}\u001b[0m\u001b[33m-\u001b[0m\u001b[33m{\u001b[0m\u001b[33mtask_id\u001b[0m\u001b[33m}\u001b[0m\u001b[33m-\u001b[0m\u001b[33m{\u001b[0m\u001b[33mrun_id\u001b[0m\u001b[33m}\u001b[0m\u001b[33m-\u001b[0m\u001b[33m{\u001b[0m\u001b[33mmap_index\u001b[0m\u001b[33m}\u001b[0m\u001b[33m-\u001b[0m\u001b[33m{\u001b[0m\u001b[33mtry_number\u001b[0m\u001b[33m}\u001b[0m\u001b[33m'\u001b[0m\u001b[33m in the running config, but please update your config before Apache Airflow \u001b[0m\u001b[1;33m3.0\u001b[0m\u001b[33m.\u001b[0m\n"
      ]
     },
     "metadata": {},
     "output_type": "display_data"
    },
    {
     "data": {
      "text/html": [
       "<pre style=\"white-space:pre;overflow-x:auto;line-height:normal;font-family:Menlo,'DejaVu Sans Mono',consolas,'Courier New',monospace\"><span style=\"color: #808000; text-decoration-color: #808000; font-weight: bold\">/Users/xiangt/Desktop/local-airflow/.venv/lib/python3.10/site-packages/airflow/configuration.py:</span><span style=\"color: #808000; text-decoration-color: #808000; font-weight: bold\">378</span><span style=\"color: #808000; text-decoration-color: #808000; font-weight: bold\"> DeprecationWarning</span><span style=\"color: #808000; text-decoration-color: #808000\">: The sql_alchemy_conn option in </span><span style=\"color: #808000; text-decoration-color: #808000; font-weight: bold\">[</span><span style=\"color: #808000; text-decoration-color: #808000\">core</span><span style=\"color: #808000; text-decoration-color: #808000; font-weight: bold\">]</span><span style=\"color: #808000; text-decoration-color: #808000\"> has been moved to the sql_alchemy_conn option in </span><span style=\"color: #808000; text-decoration-color: #808000; font-weight: bold\">[</span><span style=\"color: #808000; text-decoration-color: #808000\">database</span><span style=\"color: #808000; text-decoration-color: #808000; font-weight: bold\">]</span><span style=\"color: #808000; text-decoration-color: #808000\"> - the old setting has been used, but please update your config.</span>\n",
       "</pre>\n"
      ],
      "text/plain": [
       "\u001b[1;33m/Users/xiangt/Desktop/local-airflow/.venv/lib/python3.10/site-packages/airflow/\u001b[0m\u001b[1;33mconfiguration.py\u001b[0m\u001b[1;33m:\u001b[0m\u001b[1;33m378\u001b[0m\u001b[1;33m DeprecationWarning\u001b[0m\u001b[33m: The sql_alchemy_conn option in \u001b[0m\u001b[1;33m[\u001b[0m\u001b[33mcore\u001b[0m\u001b[1;33m]\u001b[0m\u001b[33m has been moved to the sql_alchemy_conn option in \u001b[0m\u001b[1;33m[\u001b[0m\u001b[33mdatabase\u001b[0m\u001b[1;33m]\u001b[0m\u001b[33m - the old setting has been used, but please update your config.\u001b[0m\n"
      ]
     },
     "metadata": {},
     "output_type": "display_data"
    },
    {
     "data": {
      "text/html": [
       "<pre style=\"white-space:pre;overflow-x:auto;line-height:normal;font-family:Menlo,'DejaVu Sans Mono',consolas,'Courier New',monospace\"><span style=\"color: #808000; text-decoration-color: #808000; font-weight: bold\">/Users/xiangt/Desktop/local-airflow/.venv/lib/python3.10/site-packages/airflow/settings.py:</span><span style=\"color: #808000; text-decoration-color: #808000; font-weight: bold\">195</span><span style=\"color: #808000; text-decoration-color: #808000; font-weight: bold\"> DeprecationWarning</span><span style=\"color: #808000; text-decoration-color: #808000\">: The sql_alchemy_conn option in </span><span style=\"color: #808000; text-decoration-color: #808000; font-weight: bold\">[</span><span style=\"color: #808000; text-decoration-color: #808000\">core</span><span style=\"color: #808000; text-decoration-color: #808000; font-weight: bold\">]</span><span style=\"color: #808000; text-decoration-color: #808000\"> has been moved to the sql_alchemy_conn option in </span><span style=\"color: #808000; text-decoration-color: #808000; font-weight: bold\">[</span><span style=\"color: #808000; text-decoration-color: #808000\">database</span><span style=\"color: #808000; text-decoration-color: #808000; font-weight: bold\">]</span><span style=\"color: #808000; text-decoration-color: #808000\"> - the old setting has been used, but please update your config.</span>\n",
       "</pre>\n"
      ],
      "text/plain": [
       "\u001b[1;33m/Users/xiangt/Desktop/local-airflow/.venv/lib/python3.10/site-packages/airflow/\u001b[0m\u001b[1;33msettings.py\u001b[0m\u001b[1;33m:\u001b[0m\u001b[1;33m195\u001b[0m\u001b[1;33m DeprecationWarning\u001b[0m\u001b[33m: The sql_alchemy_conn option in \u001b[0m\u001b[1;33m[\u001b[0m\u001b[33mcore\u001b[0m\u001b[1;33m]\u001b[0m\u001b[33m has been moved to the sql_alchemy_conn option in \u001b[0m\u001b[1;33m[\u001b[0m\u001b[33mdatabase\u001b[0m\u001b[1;33m]\u001b[0m\u001b[33m - the old setting has been used, but please update your config.\u001b[0m\n"
      ]
     },
     "metadata": {},
     "output_type": "display_data"
    },
    {
     "data": {
      "text/html": [
       "<pre style=\"white-space:pre;overflow-x:auto;line-height:normal;font-family:Menlo,'DejaVu Sans Mono',consolas,'Courier New',monospace\"><span style=\"color: #808000; text-decoration-color: #808000; font-weight: bold\">/Users/xiangt/Desktop/local-airflow/.venv/lib/python3.10/site-packages/airflow/settings.py:</span><span style=\"color: #808000; text-decoration-color: #808000; font-weight: bold\">283</span><span style=\"color: #808000; text-decoration-color: #808000; font-weight: bold\"> DeprecationWarning</span><span style=\"color: #808000; text-decoration-color: #808000\">: The sql_alchemy_pool_enabled option in </span><span style=\"color: #808000; text-decoration-color: #808000; font-weight: bold\">[</span><span style=\"color: #808000; text-decoration-color: #808000\">core</span><span style=\"color: #808000; text-decoration-color: #808000; font-weight: bold\">]</span><span style=\"color: #808000; text-decoration-color: #808000\"> has been moved to the sql_alchemy_pool_enabled option in </span><span style=\"color: #808000; text-decoration-color: #808000; font-weight: bold\">[</span><span style=\"color: #808000; text-decoration-color: #808000\">database</span><span style=\"color: #808000; text-decoration-color: #808000; font-weight: bold\">]</span><span style=\"color: #808000; text-decoration-color: #808000\"> - the old setting has been used, but please update your config.</span>\n",
       "</pre>\n"
      ],
      "text/plain": [
       "\u001b[1;33m/Users/xiangt/Desktop/local-airflow/.venv/lib/python3.10/site-packages/airflow/\u001b[0m\u001b[1;33msettings.py\u001b[0m\u001b[1;33m:\u001b[0m\u001b[1;33m283\u001b[0m\u001b[1;33m DeprecationWarning\u001b[0m\u001b[33m: The sql_alchemy_pool_enabled option in \u001b[0m\u001b[1;33m[\u001b[0m\u001b[33mcore\u001b[0m\u001b[1;33m]\u001b[0m\u001b[33m has been moved to the sql_alchemy_pool_enabled option in \u001b[0m\u001b[1;33m[\u001b[0m\u001b[33mdatabase\u001b[0m\u001b[1;33m]\u001b[0m\u001b[33m - the old setting has been used, but please update your config.\u001b[0m\n"
      ]
     },
     "metadata": {},
     "output_type": "display_data"
    },
    {
     "data": {
      "text/html": [
       "<pre style=\"white-space:pre;overflow-x:auto;line-height:normal;font-family:Menlo,'DejaVu Sans Mono',consolas,'Courier New',monospace\"><span style=\"color: #808000; text-decoration-color: #808000; font-weight: bold\">/Users/xiangt/Desktop/local-airflow/.venv/lib/python3.10/site-packages/airflow/settings.py:</span><span style=\"color: #808000; text-decoration-color: #808000; font-weight: bold\">346</span><span style=\"color: #808000; text-decoration-color: #808000; font-weight: bold\"> DeprecationWarning</span><span style=\"color: #808000; text-decoration-color: #808000\">: The sql_engine_encoding option in </span><span style=\"color: #808000; text-decoration-color: #808000; font-weight: bold\">[</span><span style=\"color: #808000; text-decoration-color: #808000\">core</span><span style=\"color: #808000; text-decoration-color: #808000; font-weight: bold\">]</span><span style=\"color: #808000; text-decoration-color: #808000\"> has been moved to the sql_engine_encoding option in </span><span style=\"color: #808000; text-decoration-color: #808000; font-weight: bold\">[</span><span style=\"color: #808000; text-decoration-color: #808000\">database</span><span style=\"color: #808000; text-decoration-color: #808000; font-weight: bold\">]</span><span style=\"color: #808000; text-decoration-color: #808000\"> - the old setting has been used, but please update your config.</span>\n",
       "</pre>\n"
      ],
      "text/plain": [
       "\u001b[1;33m/Users/xiangt/Desktop/local-airflow/.venv/lib/python3.10/site-packages/airflow/\u001b[0m\u001b[1;33msettings.py\u001b[0m\u001b[1;33m:\u001b[0m\u001b[1;33m346\u001b[0m\u001b[1;33m DeprecationWarning\u001b[0m\u001b[33m: The sql_engine_encoding option in \u001b[0m\u001b[1;33m[\u001b[0m\u001b[33mcore\u001b[0m\u001b[1;33m]\u001b[0m\u001b[33m has been moved to the sql_engine_encoding option in \u001b[0m\u001b[1;33m[\u001b[0m\u001b[33mdatabase\u001b[0m\u001b[1;33m]\u001b[0m\u001b[33m - the old setting has been used, but please update your config.\u001b[0m\n"
      ]
     },
     "metadata": {},
     "output_type": "display_data"
    },
    {
     "data": {
      "text/html": [
       "<pre style=\"white-space:pre;overflow-x:auto;line-height:normal;font-family:Menlo,'DejaVu Sans Mono',consolas,'Courier New',monospace\"><span style=\"color: #808000; text-decoration-color: #808000; font-weight: bold\">/Users/xiangt/Desktop/local-airflow/.venv/lib/python3.10/site-packages/airflow/models/base.py:</span><span style=\"color: #808000; text-decoration-color: #808000; font-weight: bold\">27</span><span style=\"color: #808000; text-decoration-color: #808000; font-weight: bold\"> DeprecationWarning</span><span style=\"color: #808000; text-decoration-color: #808000\">: The sql_alchemy_schema option in </span><span style=\"color: #808000; text-decoration-color: #808000; font-weight: bold\">[</span><span style=\"color: #808000; text-decoration-color: #808000\">core</span><span style=\"color: #808000; text-decoration-color: #808000; font-weight: bold\">]</span><span style=\"color: #808000; text-decoration-color: #808000\"> has been moved to the sql_alchemy_schema option in </span><span style=\"color: #808000; text-decoration-color: #808000; font-weight: bold\">[</span><span style=\"color: #808000; text-decoration-color: #808000\">database</span><span style=\"color: #808000; text-decoration-color: #808000; font-weight: bold\">]</span><span style=\"color: #808000; text-decoration-color: #808000\"> - the old setting has been used, but please update your config.</span>\n",
       "</pre>\n"
      ],
      "text/plain": [
       "\u001b[1;33m/Users/xiangt/Desktop/local-airflow/.venv/lib/python3.10/site-packages/airflow/models/\u001b[0m\u001b[1;33mbase.py\u001b[0m\u001b[1;33m:\u001b[0m\u001b[1;33m27\u001b[0m\u001b[1;33m DeprecationWarning\u001b[0m\u001b[33m: The sql_alchemy_schema option in \u001b[0m\u001b[1;33m[\u001b[0m\u001b[33mcore\u001b[0m\u001b[1;33m]\u001b[0m\u001b[33m has been moved to the sql_alchemy_schema option in \u001b[0m\u001b[1;33m[\u001b[0m\u001b[33mdatabase\u001b[0m\u001b[1;33m]\u001b[0m\u001b[33m - the old setting has been used, but please update your config.\u001b[0m\n"
      ]
     },
     "metadata": {},
     "output_type": "display_data"
    },
    {
     "data": {
      "text/html": [
       "<pre style=\"white-space:pre;overflow-x:auto;line-height:normal;font-family:Menlo,'DejaVu Sans Mono',consolas,'Courier New',monospace\"><span style=\"color: #808000; text-decoration-color: #808000; font-weight: bold\">/Users/xiangt/Desktop/local-airflow/.venv/lib/python3.10/site-packages/airflow/models/base.py:</span><span style=\"color: #808000; text-decoration-color: #808000; font-weight: bold\">70</span><span style=\"color: #808000; text-decoration-color: #808000; font-weight: bold\"> DeprecationWarning</span><span style=\"color: #808000; text-decoration-color: #808000\">: The sql_alchemy_conn option in </span><span style=\"color: #808000; text-decoration-color: #808000; font-weight: bold\">[</span><span style=\"color: #808000; text-decoration-color: #808000\">core</span><span style=\"color: #808000; text-decoration-color: #808000; font-weight: bold\">]</span><span style=\"color: #808000; text-decoration-color: #808000\"> has been moved to the sql_alchemy_conn option in </span><span style=\"color: #808000; text-decoration-color: #808000; font-weight: bold\">[</span><span style=\"color: #808000; text-decoration-color: #808000\">database</span><span style=\"color: #808000; text-decoration-color: #808000; font-weight: bold\">]</span><span style=\"color: #808000; text-decoration-color: #808000\"> - the old setting has been used, but please update your config.</span>\n",
       "</pre>\n"
      ],
      "text/plain": [
       "\u001b[1;33m/Users/xiangt/Desktop/local-airflow/.venv/lib/python3.10/site-packages/airflow/models/\u001b[0m\u001b[1;33mbase.py\u001b[0m\u001b[1;33m:\u001b[0m\u001b[1;33m70\u001b[0m\u001b[1;33m DeprecationWarning\u001b[0m\u001b[33m: The sql_alchemy_conn option in \u001b[0m\u001b[1;33m[\u001b[0m\u001b[33mcore\u001b[0m\u001b[1;33m]\u001b[0m\u001b[33m has been moved to the sql_alchemy_conn option in \u001b[0m\u001b[1;33m[\u001b[0m\u001b[33mdatabase\u001b[0m\u001b[1;33m]\u001b[0m\u001b[33m - the old setting has been used, but please update your config.\u001b[0m\n"
      ]
     },
     "metadata": {},
     "output_type": "display_data"
    },
    {
     "name": "stdout",
     "output_type": "stream",
     "text": [
      "[\u001b[34m2024-09-11T00:09:57.248+1000\u001b[0m] {\u001b[34mdoc_db.py:\u001b[0m17} INFO\u001b[0m - Connecting to ph-docdb.ap-southeast-2.qa.predictivehire.com:27017 with user readwriteuserli\u001b[0m\n",
      "[\u001b[34m2024-09-11T00:09:58.089+1000\u001b[0m] {\u001b[34mbackfill_job_requisition_status.py:\u001b[0m19} INFO\u001b[0m - Total job requisitions count: 26010\u001b[0m\n",
      "[\u001b[34m2024-09-11T00:09:58.090+1000\u001b[0m] {\u001b[34mbackfill_job_requisition_status.py:\u001b[0m23} INFO\u001b[0m - Getting job requisition ids for page 0\u001b[0m\n",
      "[\u001b[34m2024-09-11T00:09:58.090+1000\u001b[0m] {\u001b[34mdoc_db.py:\u001b[0m17} INFO\u001b[0m - Connecting to ph-docdb.ap-southeast-2.qa.predictivehire.com:27017 with user readwriteuserli\u001b[0m\n",
      "[\u001b[34m2024-09-11T00:09:58.138+1000\u001b[0m] {\u001b[34mbackfill_job_requisition_status.py:\u001b[0m23} INFO\u001b[0m - Getting job requisition ids for page 1\u001b[0m\n",
      "[\u001b[34m2024-09-11T00:09:58.139+1000\u001b[0m] {\u001b[34mdoc_db.py:\u001b[0m17} INFO\u001b[0m - Connecting to ph-docdb.ap-southeast-2.qa.predictivehire.com:27017 with user readwriteuserli\u001b[0m\n",
      "[\u001b[34m2024-09-11T00:09:58.186+1000\u001b[0m] {\u001b[34mbackfill_job_requisition_status.py:\u001b[0m23} INFO\u001b[0m - Getting job requisition ids for page 2\u001b[0m\n",
      "[\u001b[34m2024-09-11T00:09:58.187+1000\u001b[0m] {\u001b[34mdoc_db.py:\u001b[0m17} INFO\u001b[0m - Connecting to ph-docdb.ap-southeast-2.qa.predictivehire.com:27017 with user readwriteuserli\u001b[0m\n",
      "[\u001b[34m2024-09-11T00:09:58.259+1000\u001b[0m] {\u001b[34mbackfill_job_requisition_status.py:\u001b[0m23} INFO\u001b[0m - Getting job requisition ids for page 3\u001b[0m\n",
      "[\u001b[34m2024-09-11T00:09:58.260+1000\u001b[0m] {\u001b[34mdoc_db.py:\u001b[0m17} INFO\u001b[0m - Connecting to ph-docdb.ap-southeast-2.qa.predictivehire.com:27017 with user readwriteuserli\u001b[0m\n",
      "[\u001b[34m2024-09-11T00:09:58.319+1000\u001b[0m] {\u001b[34mbackfill_job_requisition_status.py:\u001b[0m23} INFO\u001b[0m - Getting job requisition ids for page 4\u001b[0m\n",
      "[\u001b[34m2024-09-11T00:09:58.321+1000\u001b[0m] {\u001b[34mdoc_db.py:\u001b[0m17} INFO\u001b[0m - Connecting to ph-docdb.ap-southeast-2.qa.predictivehire.com:27017 with user readwriteuserli\u001b[0m\n",
      "[\u001b[34m2024-09-11T00:09:58.363+1000\u001b[0m] {\u001b[34mbackfill_job_requisition_status.py:\u001b[0m23} INFO\u001b[0m - Getting job requisition ids for page 5\u001b[0m\n",
      "[\u001b[34m2024-09-11T00:09:58.364+1000\u001b[0m] {\u001b[34mdoc_db.py:\u001b[0m17} INFO\u001b[0m - Connecting to ph-docdb.ap-southeast-2.qa.predictivehire.com:27017 with user readwriteuserli\u001b[0m\n",
      "[\u001b[34m2024-09-11T00:09:58.401+1000\u001b[0m] {\u001b[34mbackfill_job_requisition_status.py:\u001b[0m23} INFO\u001b[0m - Getting job requisition ids for page 6\u001b[0m\n",
      "[\u001b[34m2024-09-11T00:09:58.402+1000\u001b[0m] {\u001b[34mdoc_db.py:\u001b[0m17} INFO\u001b[0m - Connecting to ph-docdb.ap-southeast-2.qa.predictivehire.com:27017 with user readwriteuserli\u001b[0m\n",
      "[\u001b[34m2024-09-11T00:09:58.448+1000\u001b[0m] {\u001b[34mbackfill_job_requisition_status.py:\u001b[0m23} INFO\u001b[0m - Getting job requisition ids for page 7\u001b[0m\n",
      "[\u001b[34m2024-09-11T00:09:58.449+1000\u001b[0m] {\u001b[34mdoc_db.py:\u001b[0m17} INFO\u001b[0m - Connecting to ph-docdb.ap-southeast-2.qa.predictivehire.com:27017 with user readwriteuserli\u001b[0m\n",
      "[\u001b[34m2024-09-11T00:09:58.487+1000\u001b[0m] {\u001b[34mbackfill_job_requisition_status.py:\u001b[0m23} INFO\u001b[0m - Getting job requisition ids for page 8\u001b[0m\n",
      "[\u001b[34m2024-09-11T00:09:58.488+1000\u001b[0m] {\u001b[34mdoc_db.py:\u001b[0m17} INFO\u001b[0m - Connecting to ph-docdb.ap-southeast-2.qa.predictivehire.com:27017 with user readwriteuserli\u001b[0m\n",
      "[\u001b[34m2024-09-11T00:09:58.523+1000\u001b[0m] {\u001b[34mbackfill_job_requisition_status.py:\u001b[0m23} INFO\u001b[0m - Getting job requisition ids for page 9\u001b[0m\n",
      "[\u001b[34m2024-09-11T00:09:58.524+1000\u001b[0m] {\u001b[34mdoc_db.py:\u001b[0m17} INFO\u001b[0m - Connecting to ph-docdb.ap-southeast-2.qa.predictivehire.com:27017 with user readwriteuserli\u001b[0m\n",
      "[\u001b[34m2024-09-11T00:09:58.563+1000\u001b[0m] {\u001b[34mbackfill_job_requisition_status.py:\u001b[0m23} INFO\u001b[0m - Getting job requisition ids for page 10\u001b[0m\n",
      "[\u001b[34m2024-09-11T00:09:58.564+1000\u001b[0m] {\u001b[34mdoc_db.py:\u001b[0m17} INFO\u001b[0m - Connecting to ph-docdb.ap-southeast-2.qa.predictivehire.com:27017 with user readwriteuserli\u001b[0m\n",
      "[\u001b[34m2024-09-11T00:09:58.605+1000\u001b[0m] {\u001b[34mbackfill_job_requisition_status.py:\u001b[0m23} INFO\u001b[0m - Getting job requisition ids for page 11\u001b[0m\n",
      "[\u001b[34m2024-09-11T00:09:58.606+1000\u001b[0m] {\u001b[34mdoc_db.py:\u001b[0m17} INFO\u001b[0m - Connecting to ph-docdb.ap-southeast-2.qa.predictivehire.com:27017 with user readwriteuserli\u001b[0m\n",
      "[\u001b[34m2024-09-11T00:09:58.649+1000\u001b[0m] {\u001b[34mbackfill_job_requisition_status.py:\u001b[0m23} INFO\u001b[0m - Getting job requisition ids for page 12\u001b[0m\n",
      "[\u001b[34m2024-09-11T00:09:58.650+1000\u001b[0m] {\u001b[34mdoc_db.py:\u001b[0m17} INFO\u001b[0m - Connecting to ph-docdb.ap-southeast-2.qa.predictivehire.com:27017 with user readwriteuserli\u001b[0m\n",
      "[\u001b[34m2024-09-11T00:09:58.698+1000\u001b[0m] {\u001b[34mbackfill_job_requisition_status.py:\u001b[0m23} INFO\u001b[0m - Getting job requisition ids for page 13\u001b[0m\n",
      "[\u001b[34m2024-09-11T00:09:58.698+1000\u001b[0m] {\u001b[34mdoc_db.py:\u001b[0m17} INFO\u001b[0m - Connecting to ph-docdb.ap-southeast-2.qa.predictivehire.com:27017 with user readwriteuserli\u001b[0m\n",
      "[\u001b[34m2024-09-11T00:09:58.741+1000\u001b[0m] {\u001b[34mbackfill_job_requisition_status.py:\u001b[0m23} INFO\u001b[0m - Getting job requisition ids for page 14\u001b[0m\n",
      "[\u001b[34m2024-09-11T00:09:58.741+1000\u001b[0m] {\u001b[34mdoc_db.py:\u001b[0m17} INFO\u001b[0m - Connecting to ph-docdb.ap-southeast-2.qa.predictivehire.com:27017 with user readwriteuserli\u001b[0m\n",
      "[\u001b[34m2024-09-11T00:09:58.784+1000\u001b[0m] {\u001b[34mbackfill_job_requisition_status.py:\u001b[0m23} INFO\u001b[0m - Getting job requisition ids for page 15\u001b[0m\n",
      "[\u001b[34m2024-09-11T00:09:58.785+1000\u001b[0m] {\u001b[34mdoc_db.py:\u001b[0m17} INFO\u001b[0m - Connecting to ph-docdb.ap-southeast-2.qa.predictivehire.com:27017 with user readwriteuserli\u001b[0m\n",
      "[\u001b[34m2024-09-11T00:09:58.823+1000\u001b[0m] {\u001b[34mbackfill_job_requisition_status.py:\u001b[0m23} INFO\u001b[0m - Getting job requisition ids for page 16\u001b[0m\n",
      "[\u001b[34m2024-09-11T00:09:58.824+1000\u001b[0m] {\u001b[34mdoc_db.py:\u001b[0m17} INFO\u001b[0m - Connecting to ph-docdb.ap-southeast-2.qa.predictivehire.com:27017 with user readwriteuserli\u001b[0m\n",
      "[\u001b[34m2024-09-11T00:09:58.880+1000\u001b[0m] {\u001b[34mbackfill_job_requisition_status.py:\u001b[0m23} INFO\u001b[0m - Getting job requisition ids for page 17\u001b[0m\n",
      "[\u001b[34m2024-09-11T00:09:58.880+1000\u001b[0m] {\u001b[34mdoc_db.py:\u001b[0m17} INFO\u001b[0m - Connecting to ph-docdb.ap-southeast-2.qa.predictivehire.com:27017 with user readwriteuserli\u001b[0m\n",
      "[\u001b[34m2024-09-11T00:09:58.933+1000\u001b[0m] {\u001b[34mbackfill_job_requisition_status.py:\u001b[0m23} INFO\u001b[0m - Getting job requisition ids for page 18\u001b[0m\n",
      "[\u001b[34m2024-09-11T00:09:58.934+1000\u001b[0m] {\u001b[34mdoc_db.py:\u001b[0m17} INFO\u001b[0m - Connecting to ph-docdb.ap-southeast-2.qa.predictivehire.com:27017 with user readwriteuserli\u001b[0m\n",
      "[\u001b[34m2024-09-11T00:09:58.980+1000\u001b[0m] {\u001b[34mbackfill_job_requisition_status.py:\u001b[0m23} INFO\u001b[0m - Getting job requisition ids for page 19\u001b[0m\n",
      "[\u001b[34m2024-09-11T00:09:58.981+1000\u001b[0m] {\u001b[34mdoc_db.py:\u001b[0m17} INFO\u001b[0m - Connecting to ph-docdb.ap-southeast-2.qa.predictivehire.com:27017 with user readwriteuserli\u001b[0m\n",
      "[\u001b[34m2024-09-11T00:09:59.031+1000\u001b[0m] {\u001b[34mbackfill_job_requisition_status.py:\u001b[0m23} INFO\u001b[0m - Getting job requisition ids for page 20\u001b[0m\n",
      "[\u001b[34m2024-09-11T00:09:59.031+1000\u001b[0m] {\u001b[34mdoc_db.py:\u001b[0m17} INFO\u001b[0m - Connecting to ph-docdb.ap-southeast-2.qa.predictivehire.com:27017 with user readwriteuserli\u001b[0m\n",
      "[\u001b[34m2024-09-11T00:09:59.073+1000\u001b[0m] {\u001b[34mbackfill_job_requisition_status.py:\u001b[0m23} INFO\u001b[0m - Getting job requisition ids for page 21\u001b[0m\n",
      "[\u001b[34m2024-09-11T00:09:59.073+1000\u001b[0m] {\u001b[34mdoc_db.py:\u001b[0m17} INFO\u001b[0m - Connecting to ph-docdb.ap-southeast-2.qa.predictivehire.com:27017 with user readwriteuserli\u001b[0m\n",
      "[\u001b[34m2024-09-11T00:09:59.125+1000\u001b[0m] {\u001b[34mbackfill_job_requisition_status.py:\u001b[0m23} INFO\u001b[0m - Getting job requisition ids for page 22\u001b[0m\n",
      "[\u001b[34m2024-09-11T00:09:59.126+1000\u001b[0m] {\u001b[34mdoc_db.py:\u001b[0m17} INFO\u001b[0m - Connecting to ph-docdb.ap-southeast-2.qa.predictivehire.com:27017 with user readwriteuserli\u001b[0m\n",
      "[\u001b[34m2024-09-11T00:09:59.166+1000\u001b[0m] {\u001b[34mbackfill_job_requisition_status.py:\u001b[0m23} INFO\u001b[0m - Getting job requisition ids for page 23\u001b[0m\n",
      "[\u001b[34m2024-09-11T00:09:59.167+1000\u001b[0m] {\u001b[34mdoc_db.py:\u001b[0m17} INFO\u001b[0m - Connecting to ph-docdb.ap-southeast-2.qa.predictivehire.com:27017 with user readwriteuserli\u001b[0m\n",
      "[\u001b[34m2024-09-11T00:09:59.220+1000\u001b[0m] {\u001b[34mbackfill_job_requisition_status.py:\u001b[0m23} INFO\u001b[0m - Getting job requisition ids for page 24\u001b[0m\n",
      "[\u001b[34m2024-09-11T00:09:59.221+1000\u001b[0m] {\u001b[34mdoc_db.py:\u001b[0m17} INFO\u001b[0m - Connecting to ph-docdb.ap-southeast-2.qa.predictivehire.com:27017 with user readwriteuserli\u001b[0m\n",
      "[\u001b[34m2024-09-11T00:09:59.298+1000\u001b[0m] {\u001b[34mbackfill_job_requisition_status.py:\u001b[0m23} INFO\u001b[0m - Getting job requisition ids for page 25\u001b[0m\n",
      "[\u001b[34m2024-09-11T00:09:59.299+1000\u001b[0m] {\u001b[34mdoc_db.py:\u001b[0m17} INFO\u001b[0m - Connecting to ph-docdb.ap-southeast-2.qa.predictivehire.com:27017 with user readwriteuserli\u001b[0m\n",
      "[\u001b[34m2024-09-11T00:09:59.368+1000\u001b[0m] {\u001b[34mbackfill_job_requisition_status.py:\u001b[0m23} INFO\u001b[0m - Getting job requisition ids for page 26\u001b[0m\n",
      "[\u001b[34m2024-09-11T00:09:59.369+1000\u001b[0m] {\u001b[34mdoc_db.py:\u001b[0m17} INFO\u001b[0m - Connecting to ph-docdb.ap-southeast-2.qa.predictivehire.com:27017 with user readwriteuserli\u001b[0m\n",
      "[\u001b[34m2024-09-11T00:09:59.411+1000\u001b[0m] {\u001b[34mbackfill_job_requisition_status.py:\u001b[0m23} INFO\u001b[0m - Getting job requisition ids for page 27\u001b[0m\n",
      "[\u001b[34m2024-09-11T00:09:59.411+1000\u001b[0m] {\u001b[34mdoc_db.py:\u001b[0m17} INFO\u001b[0m - Connecting to ph-docdb.ap-southeast-2.qa.predictivehire.com:27017 with user readwriteuserli\u001b[0m\n",
      "[\u001b[34m2024-09-11T00:09:59.456+1000\u001b[0m] {\u001b[34mbackfill_job_requisition_status.py:\u001b[0m23} INFO\u001b[0m - Getting job requisition ids for page 28\u001b[0m\n",
      "[\u001b[34m2024-09-11T00:09:59.457+1000\u001b[0m] {\u001b[34mdoc_db.py:\u001b[0m17} INFO\u001b[0m - Connecting to ph-docdb.ap-southeast-2.qa.predictivehire.com:27017 with user readwriteuserli\u001b[0m\n",
      "[\u001b[34m2024-09-11T00:09:59.508+1000\u001b[0m] {\u001b[34mbackfill_job_requisition_status.py:\u001b[0m23} INFO\u001b[0m - Getting job requisition ids for page 29\u001b[0m\n",
      "[\u001b[34m2024-09-11T00:09:59.509+1000\u001b[0m] {\u001b[34mdoc_db.py:\u001b[0m17} INFO\u001b[0m - Connecting to ph-docdb.ap-southeast-2.qa.predictivehire.com:27017 with user readwriteuserli\u001b[0m\n",
      "[\u001b[34m2024-09-11T00:09:59.551+1000\u001b[0m] {\u001b[34mbackfill_job_requisition_status.py:\u001b[0m23} INFO\u001b[0m - Getting job requisition ids for page 30\u001b[0m\n",
      "[\u001b[34m2024-09-11T00:09:59.552+1000\u001b[0m] {\u001b[34mdoc_db.py:\u001b[0m17} INFO\u001b[0m - Connecting to ph-docdb.ap-southeast-2.qa.predictivehire.com:27017 with user readwriteuserli\u001b[0m\n",
      "[\u001b[34m2024-09-11T00:09:59.592+1000\u001b[0m] {\u001b[34mbackfill_job_requisition_status.py:\u001b[0m23} INFO\u001b[0m - Getting job requisition ids for page 31\u001b[0m\n",
      "[\u001b[34m2024-09-11T00:09:59.593+1000\u001b[0m] {\u001b[34mdoc_db.py:\u001b[0m17} INFO\u001b[0m - Connecting to ph-docdb.ap-southeast-2.qa.predictivehire.com:27017 with user readwriteuserli\u001b[0m\n",
      "[\u001b[34m2024-09-11T00:09:59.634+1000\u001b[0m] {\u001b[34mbackfill_job_requisition_status.py:\u001b[0m23} INFO\u001b[0m - Getting job requisition ids for page 32\u001b[0m\n",
      "[\u001b[34m2024-09-11T00:09:59.635+1000\u001b[0m] {\u001b[34mdoc_db.py:\u001b[0m17} INFO\u001b[0m - Connecting to ph-docdb.ap-southeast-2.qa.predictivehire.com:27017 with user readwriteuserli\u001b[0m\n",
      "[\u001b[34m2024-09-11T00:09:59.677+1000\u001b[0m] {\u001b[34mbackfill_job_requisition_status.py:\u001b[0m23} INFO\u001b[0m - Getting job requisition ids for page 33\u001b[0m\n",
      "[\u001b[34m2024-09-11T00:09:59.677+1000\u001b[0m] {\u001b[34mdoc_db.py:\u001b[0m17} INFO\u001b[0m - Connecting to ph-docdb.ap-southeast-2.qa.predictivehire.com:27017 with user readwriteuserli\u001b[0m\n",
      "[\u001b[34m2024-09-11T00:09:59.731+1000\u001b[0m] {\u001b[34mbackfill_job_requisition_status.py:\u001b[0m23} INFO\u001b[0m - Getting job requisition ids for page 34\u001b[0m\n",
      "[\u001b[34m2024-09-11T00:09:59.747+1000\u001b[0m] {\u001b[34mdoc_db.py:\u001b[0m17} INFO\u001b[0m - Connecting to ph-docdb.ap-southeast-2.qa.predictivehire.com:27017 with user readwriteuserli\u001b[0m\n",
      "[\u001b[34m2024-09-11T00:09:59.788+1000\u001b[0m] {\u001b[34mbackfill_job_requisition_status.py:\u001b[0m23} INFO\u001b[0m - Getting job requisition ids for page 35\u001b[0m\n",
      "[\u001b[34m2024-09-11T00:09:59.789+1000\u001b[0m] {\u001b[34mdoc_db.py:\u001b[0m17} INFO\u001b[0m - Connecting to ph-docdb.ap-southeast-2.qa.predictivehire.com:27017 with user readwriteuserli\u001b[0m\n",
      "[\u001b[34m2024-09-11T00:09:59.880+1000\u001b[0m] {\u001b[34mbackfill_job_requisition_status.py:\u001b[0m23} INFO\u001b[0m - Getting job requisition ids for page 36\u001b[0m\n",
      "[\u001b[34m2024-09-11T00:09:59.881+1000\u001b[0m] {\u001b[34mdoc_db.py:\u001b[0m17} INFO\u001b[0m - Connecting to ph-docdb.ap-southeast-2.qa.predictivehire.com:27017 with user readwriteuserli\u001b[0m\n",
      "[\u001b[34m2024-09-11T00:09:59.948+1000\u001b[0m] {\u001b[34mbackfill_job_requisition_status.py:\u001b[0m23} INFO\u001b[0m - Getting job requisition ids for page 37\u001b[0m\n",
      "[\u001b[34m2024-09-11T00:09:59.949+1000\u001b[0m] {\u001b[34mdoc_db.py:\u001b[0m17} INFO\u001b[0m - Connecting to ph-docdb.ap-southeast-2.qa.predictivehire.com:27017 with user readwriteuserli\u001b[0m\n",
      "[\u001b[34m2024-09-11T00:10:00.135+1000\u001b[0m] {\u001b[34mbackfill_job_requisition_status.py:\u001b[0m23} INFO\u001b[0m - Getting job requisition ids for page 38\u001b[0m\n",
      "[\u001b[34m2024-09-11T00:10:00.136+1000\u001b[0m] {\u001b[34mdoc_db.py:\u001b[0m17} INFO\u001b[0m - Connecting to ph-docdb.ap-southeast-2.qa.predictivehire.com:27017 with user readwriteuserli\u001b[0m\n",
      "[\u001b[34m2024-09-11T00:10:00.194+1000\u001b[0m] {\u001b[34mbackfill_job_requisition_status.py:\u001b[0m23} INFO\u001b[0m - Getting job requisition ids for page 39\u001b[0m\n",
      "[\u001b[34m2024-09-11T00:10:00.194+1000\u001b[0m] {\u001b[34mdoc_db.py:\u001b[0m17} INFO\u001b[0m - Connecting to ph-docdb.ap-southeast-2.qa.predictivehire.com:27017 with user readwriteuserli\u001b[0m\n",
      "[\u001b[34m2024-09-11T00:10:00.272+1000\u001b[0m] {\u001b[34mbackfill_job_requisition_status.py:\u001b[0m23} INFO\u001b[0m - Getting job requisition ids for page 40\u001b[0m\n",
      "[\u001b[34m2024-09-11T00:10:00.273+1000\u001b[0m] {\u001b[34mdoc_db.py:\u001b[0m17} INFO\u001b[0m - Connecting to ph-docdb.ap-southeast-2.qa.predictivehire.com:27017 with user readwriteuserli\u001b[0m\n",
      "[\u001b[34m2024-09-11T00:10:00.337+1000\u001b[0m] {\u001b[34mbackfill_job_requisition_status.py:\u001b[0m23} INFO\u001b[0m - Getting job requisition ids for page 41\u001b[0m\n",
      "[\u001b[34m2024-09-11T00:10:00.337+1000\u001b[0m] {\u001b[34mdoc_db.py:\u001b[0m17} INFO\u001b[0m - Connecting to ph-docdb.ap-southeast-2.qa.predictivehire.com:27017 with user readwriteuserli\u001b[0m\n",
      "[\u001b[34m2024-09-11T00:10:00.382+1000\u001b[0m] {\u001b[34mbackfill_job_requisition_status.py:\u001b[0m23} INFO\u001b[0m - Getting job requisition ids for page 42\u001b[0m\n",
      "[\u001b[34m2024-09-11T00:10:00.384+1000\u001b[0m] {\u001b[34mdoc_db.py:\u001b[0m17} INFO\u001b[0m - Connecting to ph-docdb.ap-southeast-2.qa.predictivehire.com:27017 with user readwriteuserli\u001b[0m\n",
      "[\u001b[34m2024-09-11T00:10:00.434+1000\u001b[0m] {\u001b[34mbackfill_job_requisition_status.py:\u001b[0m23} INFO\u001b[0m - Getting job requisition ids for page 43\u001b[0m\n",
      "[\u001b[34m2024-09-11T00:10:00.434+1000\u001b[0m] {\u001b[34mdoc_db.py:\u001b[0m17} INFO\u001b[0m - Connecting to ph-docdb.ap-southeast-2.qa.predictivehire.com:27017 with user readwriteuserli\u001b[0m\n",
      "[\u001b[34m2024-09-11T00:10:00.488+1000\u001b[0m] {\u001b[34mbackfill_job_requisition_status.py:\u001b[0m23} INFO\u001b[0m - Getting job requisition ids for page 44\u001b[0m\n",
      "[\u001b[34m2024-09-11T00:10:00.489+1000\u001b[0m] {\u001b[34mdoc_db.py:\u001b[0m17} INFO\u001b[0m - Connecting to ph-docdb.ap-southeast-2.qa.predictivehire.com:27017 with user readwriteuserli\u001b[0m\n",
      "[\u001b[34m2024-09-11T00:10:00.535+1000\u001b[0m] {\u001b[34mbackfill_job_requisition_status.py:\u001b[0m23} INFO\u001b[0m - Getting job requisition ids for page 45\u001b[0m\n",
      "[\u001b[34m2024-09-11T00:10:00.535+1000\u001b[0m] {\u001b[34mdoc_db.py:\u001b[0m17} INFO\u001b[0m - Connecting to ph-docdb.ap-southeast-2.qa.predictivehire.com:27017 with user readwriteuserli\u001b[0m\n",
      "[\u001b[34m2024-09-11T00:10:00.580+1000\u001b[0m] {\u001b[34mbackfill_job_requisition_status.py:\u001b[0m23} INFO\u001b[0m - Getting job requisition ids for page 46\u001b[0m\n",
      "[\u001b[34m2024-09-11T00:10:00.581+1000\u001b[0m] {\u001b[34mdoc_db.py:\u001b[0m17} INFO\u001b[0m - Connecting to ph-docdb.ap-southeast-2.qa.predictivehire.com:27017 with user readwriteuserli\u001b[0m\n",
      "[\u001b[34m2024-09-11T00:10:00.635+1000\u001b[0m] {\u001b[34mbackfill_job_requisition_status.py:\u001b[0m23} INFO\u001b[0m - Getting job requisition ids for page 47\u001b[0m\n",
      "[\u001b[34m2024-09-11T00:10:00.636+1000\u001b[0m] {\u001b[34mdoc_db.py:\u001b[0m17} INFO\u001b[0m - Connecting to ph-docdb.ap-southeast-2.qa.predictivehire.com:27017 with user readwriteuserli\u001b[0m\n",
      "[\u001b[34m2024-09-11T00:10:00.687+1000\u001b[0m] {\u001b[34mbackfill_job_requisition_status.py:\u001b[0m23} INFO\u001b[0m - Getting job requisition ids for page 48\u001b[0m\n",
      "[\u001b[34m2024-09-11T00:10:00.687+1000\u001b[0m] {\u001b[34mdoc_db.py:\u001b[0m17} INFO\u001b[0m - Connecting to ph-docdb.ap-southeast-2.qa.predictivehire.com:27017 with user readwriteuserli\u001b[0m\n",
      "[\u001b[34m2024-09-11T00:10:00.737+1000\u001b[0m] {\u001b[34mbackfill_job_requisition_status.py:\u001b[0m23} INFO\u001b[0m - Getting job requisition ids for page 49\u001b[0m\n",
      "[\u001b[34m2024-09-11T00:10:00.738+1000\u001b[0m] {\u001b[34mdoc_db.py:\u001b[0m17} INFO\u001b[0m - Connecting to ph-docdb.ap-southeast-2.qa.predictivehire.com:27017 with user readwriteuserli\u001b[0m\n",
      "[\u001b[34m2024-09-11T00:10:00.786+1000\u001b[0m] {\u001b[34mbackfill_job_requisition_status.py:\u001b[0m23} INFO\u001b[0m - Getting job requisition ids for page 50\u001b[0m\n",
      "[\u001b[34m2024-09-11T00:10:00.787+1000\u001b[0m] {\u001b[34mdoc_db.py:\u001b[0m17} INFO\u001b[0m - Connecting to ph-docdb.ap-southeast-2.qa.predictivehire.com:27017 with user readwriteuserli\u001b[0m\n",
      "[\u001b[34m2024-09-11T00:10:00.848+1000\u001b[0m] {\u001b[34mbackfill_job_requisition_status.py:\u001b[0m23} INFO\u001b[0m - Getting job requisition ids for page 51\u001b[0m\n",
      "[\u001b[34m2024-09-11T00:10:00.849+1000\u001b[0m] {\u001b[34mdoc_db.py:\u001b[0m17} INFO\u001b[0m - Connecting to ph-docdb.ap-southeast-2.qa.predictivehire.com:27017 with user readwriteuserli\u001b[0m\n",
      "[\u001b[34m2024-09-11T00:10:00.915+1000\u001b[0m] {\u001b[34mbackfill_job_requisition_status.py:\u001b[0m23} INFO\u001b[0m - Getting job requisition ids for page 52\u001b[0m\n",
      "[\u001b[34m2024-09-11T00:10:00.916+1000\u001b[0m] {\u001b[34mdoc_db.py:\u001b[0m17} INFO\u001b[0m - Connecting to ph-docdb.ap-southeast-2.qa.predictivehire.com:27017 with user readwriteuserli\u001b[0m\n",
      "[\u001b[34m2024-09-11T00:10:00.979+1000\u001b[0m] {\u001b[34mbackfill_job_requisition_status.py:\u001b[0m23} INFO\u001b[0m - Getting job requisition ids for page 53\u001b[0m\n",
      "[\u001b[34m2024-09-11T00:10:00.979+1000\u001b[0m] {\u001b[34mdoc_db.py:\u001b[0m17} INFO\u001b[0m - Connecting to ph-docdb.ap-southeast-2.qa.predictivehire.com:27017 with user readwriteuserli\u001b[0m\n",
      "[\u001b[34m2024-09-11T00:10:01.032+1000\u001b[0m] {\u001b[34mbackfill_job_requisition_status.py:\u001b[0m23} INFO\u001b[0m - Getting job requisition ids for page 54\u001b[0m\n",
      "[\u001b[34m2024-09-11T00:10:01.032+1000\u001b[0m] {\u001b[34mdoc_db.py:\u001b[0m17} INFO\u001b[0m - Connecting to ph-docdb.ap-southeast-2.qa.predictivehire.com:27017 with user readwriteuserli\u001b[0m\n",
      "[\u001b[34m2024-09-11T00:10:01.101+1000\u001b[0m] {\u001b[34mbackfill_job_requisition_status.py:\u001b[0m23} INFO\u001b[0m - Getting job requisition ids for page 55\u001b[0m\n",
      "[\u001b[34m2024-09-11T00:10:01.102+1000\u001b[0m] {\u001b[34mdoc_db.py:\u001b[0m17} INFO\u001b[0m - Connecting to ph-docdb.ap-southeast-2.qa.predictivehire.com:27017 with user readwriteuserli\u001b[0m\n",
      "[\u001b[34m2024-09-11T00:10:01.177+1000\u001b[0m] {\u001b[34mbackfill_job_requisition_status.py:\u001b[0m23} INFO\u001b[0m - Getting job requisition ids for page 56\u001b[0m\n",
      "[\u001b[34m2024-09-11T00:10:01.178+1000\u001b[0m] {\u001b[34mdoc_db.py:\u001b[0m17} INFO\u001b[0m - Connecting to ph-docdb.ap-southeast-2.qa.predictivehire.com:27017 with user readwriteuserli\u001b[0m\n",
      "[\u001b[34m2024-09-11T00:10:01.426+1000\u001b[0m] {\u001b[34mbackfill_job_requisition_status.py:\u001b[0m23} INFO\u001b[0m - Getting job requisition ids for page 57\u001b[0m\n",
      "[\u001b[34m2024-09-11T00:10:01.428+1000\u001b[0m] {\u001b[34mdoc_db.py:\u001b[0m17} INFO\u001b[0m - Connecting to ph-docdb.ap-southeast-2.qa.predictivehire.com:27017 with user readwriteuserli\u001b[0m\n",
      "[\u001b[34m2024-09-11T00:10:01.532+1000\u001b[0m] {\u001b[34mbackfill_job_requisition_status.py:\u001b[0m23} INFO\u001b[0m - Getting job requisition ids for page 58\u001b[0m\n",
      "[\u001b[34m2024-09-11T00:10:01.533+1000\u001b[0m] {\u001b[34mdoc_db.py:\u001b[0m17} INFO\u001b[0m - Connecting to ph-docdb.ap-southeast-2.qa.predictivehire.com:27017 with user readwriteuserli\u001b[0m\n",
      "[\u001b[34m2024-09-11T00:10:01.609+1000\u001b[0m] {\u001b[34mbackfill_job_requisition_status.py:\u001b[0m23} INFO\u001b[0m - Getting job requisition ids for page 59\u001b[0m\n",
      "[\u001b[34m2024-09-11T00:10:01.610+1000\u001b[0m] {\u001b[34mdoc_db.py:\u001b[0m17} INFO\u001b[0m - Connecting to ph-docdb.ap-southeast-2.qa.predictivehire.com:27017 with user readwriteuserli\u001b[0m\n",
      "[\u001b[34m2024-09-11T00:10:01.675+1000\u001b[0m] {\u001b[34mbackfill_job_requisition_status.py:\u001b[0m23} INFO\u001b[0m - Getting job requisition ids for page 60\u001b[0m\n",
      "[\u001b[34m2024-09-11T00:10:01.676+1000\u001b[0m] {\u001b[34mdoc_db.py:\u001b[0m17} INFO\u001b[0m - Connecting to ph-docdb.ap-southeast-2.qa.predictivehire.com:27017 with user readwriteuserli\u001b[0m\n",
      "[\u001b[34m2024-09-11T00:10:01.740+1000\u001b[0m] {\u001b[34mbackfill_job_requisition_status.py:\u001b[0m23} INFO\u001b[0m - Getting job requisition ids for page 61\u001b[0m\n",
      "[\u001b[34m2024-09-11T00:10:01.741+1000\u001b[0m] {\u001b[34mdoc_db.py:\u001b[0m17} INFO\u001b[0m - Connecting to ph-docdb.ap-southeast-2.qa.predictivehire.com:27017 with user readwriteuserli\u001b[0m\n",
      "[\u001b[34m2024-09-11T00:10:01.805+1000\u001b[0m] {\u001b[34mbackfill_job_requisition_status.py:\u001b[0m23} INFO\u001b[0m - Getting job requisition ids for page 62\u001b[0m\n",
      "[\u001b[34m2024-09-11T00:10:01.806+1000\u001b[0m] {\u001b[34mdoc_db.py:\u001b[0m17} INFO\u001b[0m - Connecting to ph-docdb.ap-southeast-2.qa.predictivehire.com:27017 with user readwriteuserli\u001b[0m\n",
      "[\u001b[34m2024-09-11T00:10:01.875+1000\u001b[0m] {\u001b[34mbackfill_job_requisition_status.py:\u001b[0m23} INFO\u001b[0m - Getting job requisition ids for page 63\u001b[0m\n",
      "[\u001b[34m2024-09-11T00:10:01.877+1000\u001b[0m] {\u001b[34mdoc_db.py:\u001b[0m17} INFO\u001b[0m - Connecting to ph-docdb.ap-southeast-2.qa.predictivehire.com:27017 with user readwriteuserli\u001b[0m\n",
      "[\u001b[34m2024-09-11T00:10:01.965+1000\u001b[0m] {\u001b[34mbackfill_job_requisition_status.py:\u001b[0m23} INFO\u001b[0m - Getting job requisition ids for page 64\u001b[0m\n",
      "[\u001b[34m2024-09-11T00:10:01.966+1000\u001b[0m] {\u001b[34mdoc_db.py:\u001b[0m17} INFO\u001b[0m - Connecting to ph-docdb.ap-southeast-2.qa.predictivehire.com:27017 with user readwriteuserli\u001b[0m\n",
      "[\u001b[34m2024-09-11T00:10:02.020+1000\u001b[0m] {\u001b[34mbackfill_job_requisition_status.py:\u001b[0m23} INFO\u001b[0m - Getting job requisition ids for page 65\u001b[0m\n",
      "[\u001b[34m2024-09-11T00:10:02.021+1000\u001b[0m] {\u001b[34mdoc_db.py:\u001b[0m17} INFO\u001b[0m - Connecting to ph-docdb.ap-southeast-2.qa.predictivehire.com:27017 with user readwriteuserli\u001b[0m\n",
      "[\u001b[34m2024-09-11T00:10:02.079+1000\u001b[0m] {\u001b[34mbackfill_job_requisition_status.py:\u001b[0m23} INFO\u001b[0m - Getting job requisition ids for page 66\u001b[0m\n",
      "[\u001b[34m2024-09-11T00:10:02.080+1000\u001b[0m] {\u001b[34mdoc_db.py:\u001b[0m17} INFO\u001b[0m - Connecting to ph-docdb.ap-southeast-2.qa.predictivehire.com:27017 with user readwriteuserli\u001b[0m\n",
      "[\u001b[34m2024-09-11T00:10:02.155+1000\u001b[0m] {\u001b[34mbackfill_job_requisition_status.py:\u001b[0m23} INFO\u001b[0m - Getting job requisition ids for page 67\u001b[0m\n",
      "[\u001b[34m2024-09-11T00:10:02.156+1000\u001b[0m] {\u001b[34mdoc_db.py:\u001b[0m17} INFO\u001b[0m - Connecting to ph-docdb.ap-southeast-2.qa.predictivehire.com:27017 with user readwriteuserli\u001b[0m\n",
      "[\u001b[34m2024-09-11T00:10:02.288+1000\u001b[0m] {\u001b[34mbackfill_job_requisition_status.py:\u001b[0m23} INFO\u001b[0m - Getting job requisition ids for page 68\u001b[0m\n",
      "[\u001b[34m2024-09-11T00:10:02.290+1000\u001b[0m] {\u001b[34mdoc_db.py:\u001b[0m17} INFO\u001b[0m - Connecting to ph-docdb.ap-southeast-2.qa.predictivehire.com:27017 with user readwriteuserli\u001b[0m\n",
      "[\u001b[34m2024-09-11T00:10:02.390+1000\u001b[0m] {\u001b[34mbackfill_job_requisition_status.py:\u001b[0m23} INFO\u001b[0m - Getting job requisition ids for page 69\u001b[0m\n",
      "[\u001b[34m2024-09-11T00:10:02.392+1000\u001b[0m] {\u001b[34mdoc_db.py:\u001b[0m17} INFO\u001b[0m - Connecting to ph-docdb.ap-southeast-2.qa.predictivehire.com:27017 with user readwriteuserli\u001b[0m\n",
      "[\u001b[34m2024-09-11T00:10:02.455+1000\u001b[0m] {\u001b[34mbackfill_job_requisition_status.py:\u001b[0m23} INFO\u001b[0m - Getting job requisition ids for page 70\u001b[0m\n",
      "[\u001b[34m2024-09-11T00:10:02.456+1000\u001b[0m] {\u001b[34mdoc_db.py:\u001b[0m17} INFO\u001b[0m - Connecting to ph-docdb.ap-southeast-2.qa.predictivehire.com:27017 with user readwriteuserli\u001b[0m\n",
      "[\u001b[34m2024-09-11T00:10:02.523+1000\u001b[0m] {\u001b[34mbackfill_job_requisition_status.py:\u001b[0m23} INFO\u001b[0m - Getting job requisition ids for page 71\u001b[0m\n",
      "[\u001b[34m2024-09-11T00:10:02.525+1000\u001b[0m] {\u001b[34mdoc_db.py:\u001b[0m17} INFO\u001b[0m - Connecting to ph-docdb.ap-southeast-2.qa.predictivehire.com:27017 with user readwriteuserli\u001b[0m\n",
      "[\u001b[34m2024-09-11T00:10:02.599+1000\u001b[0m] {\u001b[34mbackfill_job_requisition_status.py:\u001b[0m23} INFO\u001b[0m - Getting job requisition ids for page 72\u001b[0m\n",
      "[\u001b[34m2024-09-11T00:10:02.599+1000\u001b[0m] {\u001b[34mdoc_db.py:\u001b[0m17} INFO\u001b[0m - Connecting to ph-docdb.ap-southeast-2.qa.predictivehire.com:27017 with user readwriteuserli\u001b[0m\n",
      "[\u001b[34m2024-09-11T00:10:02.690+1000\u001b[0m] {\u001b[34mbackfill_job_requisition_status.py:\u001b[0m23} INFO\u001b[0m - Getting job requisition ids for page 73\u001b[0m\n",
      "[\u001b[34m2024-09-11T00:10:02.691+1000\u001b[0m] {\u001b[34mdoc_db.py:\u001b[0m17} INFO\u001b[0m - Connecting to ph-docdb.ap-southeast-2.qa.predictivehire.com:27017 with user readwriteuserli\u001b[0m\n",
      "[\u001b[34m2024-09-11T00:10:02.754+1000\u001b[0m] {\u001b[34mbackfill_job_requisition_status.py:\u001b[0m23} INFO\u001b[0m - Getting job requisition ids for page 74\u001b[0m\n",
      "[\u001b[34m2024-09-11T00:10:02.755+1000\u001b[0m] {\u001b[34mdoc_db.py:\u001b[0m17} INFO\u001b[0m - Connecting to ph-docdb.ap-southeast-2.qa.predictivehire.com:27017 with user readwriteuserli\u001b[0m\n",
      "[\u001b[34m2024-09-11T00:10:02.812+1000\u001b[0m] {\u001b[34mbackfill_job_requisition_status.py:\u001b[0m23} INFO\u001b[0m - Getting job requisition ids for page 75\u001b[0m\n",
      "[\u001b[34m2024-09-11T00:10:02.813+1000\u001b[0m] {\u001b[34mdoc_db.py:\u001b[0m17} INFO\u001b[0m - Connecting to ph-docdb.ap-southeast-2.qa.predictivehire.com:27017 with user readwriteuserli\u001b[0m\n",
      "[\u001b[34m2024-09-11T00:10:02.916+1000\u001b[0m] {\u001b[34mbackfill_job_requisition_status.py:\u001b[0m23} INFO\u001b[0m - Getting job requisition ids for page 76\u001b[0m\n",
      "[\u001b[34m2024-09-11T00:10:02.917+1000\u001b[0m] {\u001b[34mdoc_db.py:\u001b[0m17} INFO\u001b[0m - Connecting to ph-docdb.ap-southeast-2.qa.predictivehire.com:27017 with user readwriteuserli\u001b[0m\n",
      "[\u001b[34m2024-09-11T00:10:02.979+1000\u001b[0m] {\u001b[34mbackfill_job_requisition_status.py:\u001b[0m23} INFO\u001b[0m - Getting job requisition ids for page 77\u001b[0m\n",
      "[\u001b[34m2024-09-11T00:10:02.980+1000\u001b[0m] {\u001b[34mdoc_db.py:\u001b[0m17} INFO\u001b[0m - Connecting to ph-docdb.ap-southeast-2.qa.predictivehire.com:27017 with user readwriteuserli\u001b[0m\n",
      "[\u001b[34m2024-09-11T00:10:03.077+1000\u001b[0m] {\u001b[34mbackfill_job_requisition_status.py:\u001b[0m23} INFO\u001b[0m - Getting job requisition ids for page 78\u001b[0m\n",
      "[\u001b[34m2024-09-11T00:10:03.078+1000\u001b[0m] {\u001b[34mdoc_db.py:\u001b[0m17} INFO\u001b[0m - Connecting to ph-docdb.ap-southeast-2.qa.predictivehire.com:27017 with user readwriteuserli\u001b[0m\n",
      "[\u001b[34m2024-09-11T00:10:03.156+1000\u001b[0m] {\u001b[34mbackfill_job_requisition_status.py:\u001b[0m23} INFO\u001b[0m - Getting job requisition ids for page 79\u001b[0m\n",
      "[\u001b[34m2024-09-11T00:10:03.158+1000\u001b[0m] {\u001b[34mdoc_db.py:\u001b[0m17} INFO\u001b[0m - Connecting to ph-docdb.ap-southeast-2.qa.predictivehire.com:27017 with user readwriteuserli\u001b[0m\n",
      "[\u001b[34m2024-09-11T00:10:03.243+1000\u001b[0m] {\u001b[34mbackfill_job_requisition_status.py:\u001b[0m23} INFO\u001b[0m - Getting job requisition ids for page 80\u001b[0m\n",
      "[\u001b[34m2024-09-11T00:10:03.244+1000\u001b[0m] {\u001b[34mdoc_db.py:\u001b[0m17} INFO\u001b[0m - Connecting to ph-docdb.ap-southeast-2.qa.predictivehire.com:27017 with user readwriteuserli\u001b[0m\n",
      "[\u001b[34m2024-09-11T00:10:03.303+1000\u001b[0m] {\u001b[34mbackfill_job_requisition_status.py:\u001b[0m23} INFO\u001b[0m - Getting job requisition ids for page 81\u001b[0m\n",
      "[\u001b[34m2024-09-11T00:10:03.304+1000\u001b[0m] {\u001b[34mdoc_db.py:\u001b[0m17} INFO\u001b[0m - Connecting to ph-docdb.ap-southeast-2.qa.predictivehire.com:27017 with user readwriteuserli\u001b[0m\n",
      "[\u001b[34m2024-09-11T00:10:03.385+1000\u001b[0m] {\u001b[34mbackfill_job_requisition_status.py:\u001b[0m23} INFO\u001b[0m - Getting job requisition ids for page 82\u001b[0m\n",
      "[\u001b[34m2024-09-11T00:10:03.386+1000\u001b[0m] {\u001b[34mdoc_db.py:\u001b[0m17} INFO\u001b[0m - Connecting to ph-docdb.ap-southeast-2.qa.predictivehire.com:27017 with user readwriteuserli\u001b[0m\n",
      "[\u001b[34m2024-09-11T00:10:03.449+1000\u001b[0m] {\u001b[34mbackfill_job_requisition_status.py:\u001b[0m23} INFO\u001b[0m - Getting job requisition ids for page 83\u001b[0m\n",
      "[\u001b[34m2024-09-11T00:10:03.450+1000\u001b[0m] {\u001b[34mdoc_db.py:\u001b[0m17} INFO\u001b[0m - Connecting to ph-docdb.ap-southeast-2.qa.predictivehire.com:27017 with user readwriteuserli\u001b[0m\n",
      "[\u001b[34m2024-09-11T00:10:03.507+1000\u001b[0m] {\u001b[34mbackfill_job_requisition_status.py:\u001b[0m23} INFO\u001b[0m - Getting job requisition ids for page 84\u001b[0m\n",
      "[\u001b[34m2024-09-11T00:10:03.508+1000\u001b[0m] {\u001b[34mdoc_db.py:\u001b[0m17} INFO\u001b[0m - Connecting to ph-docdb.ap-southeast-2.qa.predictivehire.com:27017 with user readwriteuserli\u001b[0m\n",
      "[\u001b[34m2024-09-11T00:10:03.563+1000\u001b[0m] {\u001b[34mbackfill_job_requisition_status.py:\u001b[0m23} INFO\u001b[0m - Getting job requisition ids for page 85\u001b[0m\n",
      "[\u001b[34m2024-09-11T00:10:03.564+1000\u001b[0m] {\u001b[34mdoc_db.py:\u001b[0m17} INFO\u001b[0m - Connecting to ph-docdb.ap-southeast-2.qa.predictivehire.com:27017 with user readwriteuserli\u001b[0m\n",
      "[\u001b[34m2024-09-11T00:10:03.635+1000\u001b[0m] {\u001b[34mbackfill_job_requisition_status.py:\u001b[0m23} INFO\u001b[0m - Getting job requisition ids for page 86\u001b[0m\n",
      "[\u001b[34m2024-09-11T00:10:03.636+1000\u001b[0m] {\u001b[34mdoc_db.py:\u001b[0m17} INFO\u001b[0m - Connecting to ph-docdb.ap-southeast-2.qa.predictivehire.com:27017 with user readwriteuserli\u001b[0m\n",
      "[\u001b[34m2024-09-11T00:10:03.703+1000\u001b[0m] {\u001b[34mbackfill_job_requisition_status.py:\u001b[0m23} INFO\u001b[0m - Getting job requisition ids for page 87\u001b[0m\n",
      "[\u001b[34m2024-09-11T00:10:03.703+1000\u001b[0m] {\u001b[34mdoc_db.py:\u001b[0m17} INFO\u001b[0m - Connecting to ph-docdb.ap-southeast-2.qa.predictivehire.com:27017 with user readwriteuserli\u001b[0m\n",
      "[\u001b[34m2024-09-11T00:10:03.805+1000\u001b[0m] {\u001b[34mbackfill_job_requisition_status.py:\u001b[0m23} INFO\u001b[0m - Getting job requisition ids for page 88\u001b[0m\n",
      "[\u001b[34m2024-09-11T00:10:03.807+1000\u001b[0m] {\u001b[34mdoc_db.py:\u001b[0m17} INFO\u001b[0m - Connecting to ph-docdb.ap-southeast-2.qa.predictivehire.com:27017 with user readwriteuserli\u001b[0m\n",
      "[\u001b[34m2024-09-11T00:10:03.867+1000\u001b[0m] {\u001b[34mbackfill_job_requisition_status.py:\u001b[0m23} INFO\u001b[0m - Getting job requisition ids for page 89\u001b[0m\n",
      "[\u001b[34m2024-09-11T00:10:03.871+1000\u001b[0m] {\u001b[34mdoc_db.py:\u001b[0m17} INFO\u001b[0m - Connecting to ph-docdb.ap-southeast-2.qa.predictivehire.com:27017 with user readwriteuserli\u001b[0m\n",
      "[\u001b[34m2024-09-11T00:10:03.934+1000\u001b[0m] {\u001b[34mbackfill_job_requisition_status.py:\u001b[0m23} INFO\u001b[0m - Getting job requisition ids for page 90\u001b[0m\n",
      "[\u001b[34m2024-09-11T00:10:03.938+1000\u001b[0m] {\u001b[34mdoc_db.py:\u001b[0m17} INFO\u001b[0m - Connecting to ph-docdb.ap-southeast-2.qa.predictivehire.com:27017 with user readwriteuserli\u001b[0m\n",
      "[\u001b[34m2024-09-11T00:10:04.015+1000\u001b[0m] {\u001b[34mbackfill_job_requisition_status.py:\u001b[0m23} INFO\u001b[0m - Getting job requisition ids for page 91\u001b[0m\n",
      "[\u001b[34m2024-09-11T00:10:04.016+1000\u001b[0m] {\u001b[34mdoc_db.py:\u001b[0m17} INFO\u001b[0m - Connecting to ph-docdb.ap-southeast-2.qa.predictivehire.com:27017 with user readwriteuserli\u001b[0m\n",
      "[\u001b[34m2024-09-11T00:10:04.109+1000\u001b[0m] {\u001b[34mbackfill_job_requisition_status.py:\u001b[0m23} INFO\u001b[0m - Getting job requisition ids for page 92\u001b[0m\n",
      "[\u001b[34m2024-09-11T00:10:04.110+1000\u001b[0m] {\u001b[34mdoc_db.py:\u001b[0m17} INFO\u001b[0m - Connecting to ph-docdb.ap-southeast-2.qa.predictivehire.com:27017 with user readwriteuserli\u001b[0m\n",
      "[\u001b[34m2024-09-11T00:10:04.181+1000\u001b[0m] {\u001b[34mbackfill_job_requisition_status.py:\u001b[0m23} INFO\u001b[0m - Getting job requisition ids for page 93\u001b[0m\n",
      "[\u001b[34m2024-09-11T00:10:04.183+1000\u001b[0m] {\u001b[34mdoc_db.py:\u001b[0m17} INFO\u001b[0m - Connecting to ph-docdb.ap-southeast-2.qa.predictivehire.com:27017 with user readwriteuserli\u001b[0m\n",
      "[\u001b[34m2024-09-11T00:10:04.259+1000\u001b[0m] {\u001b[34mbackfill_job_requisition_status.py:\u001b[0m23} INFO\u001b[0m - Getting job requisition ids for page 94\u001b[0m\n",
      "[\u001b[34m2024-09-11T00:10:04.260+1000\u001b[0m] {\u001b[34mdoc_db.py:\u001b[0m17} INFO\u001b[0m - Connecting to ph-docdb.ap-southeast-2.qa.predictivehire.com:27017 with user readwriteuserli\u001b[0m\n",
      "[\u001b[34m2024-09-11T00:10:04.320+1000\u001b[0m] {\u001b[34mbackfill_job_requisition_status.py:\u001b[0m23} INFO\u001b[0m - Getting job requisition ids for page 95\u001b[0m\n",
      "[\u001b[34m2024-09-11T00:10:04.321+1000\u001b[0m] {\u001b[34mdoc_db.py:\u001b[0m17} INFO\u001b[0m - Connecting to ph-docdb.ap-southeast-2.qa.predictivehire.com:27017 with user readwriteuserli\u001b[0m\n",
      "[\u001b[34m2024-09-11T00:10:04.394+1000\u001b[0m] {\u001b[34mbackfill_job_requisition_status.py:\u001b[0m23} INFO\u001b[0m - Getting job requisition ids for page 96\u001b[0m\n",
      "[\u001b[34m2024-09-11T00:10:04.395+1000\u001b[0m] {\u001b[34mdoc_db.py:\u001b[0m17} INFO\u001b[0m - Connecting to ph-docdb.ap-southeast-2.qa.predictivehire.com:27017 with user readwriteuserli\u001b[0m\n",
      "[\u001b[34m2024-09-11T00:10:04.460+1000\u001b[0m] {\u001b[34mbackfill_job_requisition_status.py:\u001b[0m23} INFO\u001b[0m - Getting job requisition ids for page 97\u001b[0m\n",
      "[\u001b[34m2024-09-11T00:10:04.461+1000\u001b[0m] {\u001b[34mdoc_db.py:\u001b[0m17} INFO\u001b[0m - Connecting to ph-docdb.ap-southeast-2.qa.predictivehire.com:27017 with user readwriteuserli\u001b[0m\n",
      "[\u001b[34m2024-09-11T00:10:04.531+1000\u001b[0m] {\u001b[34mbackfill_job_requisition_status.py:\u001b[0m23} INFO\u001b[0m - Getting job requisition ids for page 98\u001b[0m\n",
      "[\u001b[34m2024-09-11T00:10:04.531+1000\u001b[0m] {\u001b[34mdoc_db.py:\u001b[0m17} INFO\u001b[0m - Connecting to ph-docdb.ap-southeast-2.qa.predictivehire.com:27017 with user readwriteuserli\u001b[0m\n",
      "[\u001b[34m2024-09-11T00:10:04.600+1000\u001b[0m] {\u001b[34mbackfill_job_requisition_status.py:\u001b[0m23} INFO\u001b[0m - Getting job requisition ids for page 99\u001b[0m\n",
      "[\u001b[34m2024-09-11T00:10:04.601+1000\u001b[0m] {\u001b[34mdoc_db.py:\u001b[0m17} INFO\u001b[0m - Connecting to ph-docdb.ap-southeast-2.qa.predictivehire.com:27017 with user readwriteuserli\u001b[0m\n",
      "[\u001b[34m2024-09-11T00:10:04.685+1000\u001b[0m] {\u001b[34mbackfill_job_requisition_status.py:\u001b[0m23} INFO\u001b[0m - Getting job requisition ids for page 100\u001b[0m\n",
      "[\u001b[34m2024-09-11T00:10:04.686+1000\u001b[0m] {\u001b[34mdoc_db.py:\u001b[0m17} INFO\u001b[0m - Connecting to ph-docdb.ap-southeast-2.qa.predictivehire.com:27017 with user readwriteuserli\u001b[0m\n",
      "[\u001b[34m2024-09-11T00:10:04.750+1000\u001b[0m] {\u001b[34mbackfill_job_requisition_status.py:\u001b[0m23} INFO\u001b[0m - Getting job requisition ids for page 101\u001b[0m\n",
      "[\u001b[34m2024-09-11T00:10:04.751+1000\u001b[0m] {\u001b[34mdoc_db.py:\u001b[0m17} INFO\u001b[0m - Connecting to ph-docdb.ap-southeast-2.qa.predictivehire.com:27017 with user readwriteuserli\u001b[0m\n",
      "[\u001b[34m2024-09-11T00:10:04.809+1000\u001b[0m] {\u001b[34mbackfill_job_requisition_status.py:\u001b[0m23} INFO\u001b[0m - Getting job requisition ids for page 102\u001b[0m\n",
      "[\u001b[34m2024-09-11T00:10:04.810+1000\u001b[0m] {\u001b[34mdoc_db.py:\u001b[0m17} INFO\u001b[0m - Connecting to ph-docdb.ap-southeast-2.qa.predictivehire.com:27017 with user readwriteuserli\u001b[0m\n",
      "[\u001b[34m2024-09-11T00:10:04.874+1000\u001b[0m] {\u001b[34mbackfill_job_requisition_status.py:\u001b[0m23} INFO\u001b[0m - Getting job requisition ids for page 103\u001b[0m\n",
      "[\u001b[34m2024-09-11T00:10:04.875+1000\u001b[0m] {\u001b[34mdoc_db.py:\u001b[0m17} INFO\u001b[0m - Connecting to ph-docdb.ap-southeast-2.qa.predictivehire.com:27017 with user readwriteuserli\u001b[0m\n",
      "[\u001b[34m2024-09-11T00:10:04.935+1000\u001b[0m] {\u001b[34mbackfill_job_requisition_status.py:\u001b[0m23} INFO\u001b[0m - Getting job requisition ids for page 104\u001b[0m\n",
      "[\u001b[34m2024-09-11T00:10:04.936+1000\u001b[0m] {\u001b[34mdoc_db.py:\u001b[0m17} INFO\u001b[0m - Connecting to ph-docdb.ap-southeast-2.qa.predictivehire.com:27017 with user readwriteuserli\u001b[0m\n",
      "[\u001b[34m2024-09-11T00:10:05.009+1000\u001b[0m] {\u001b[34mbackfill_job_requisition_status.py:\u001b[0m23} INFO\u001b[0m - Getting job requisition ids for page 105\u001b[0m\n",
      "[\u001b[34m2024-09-11T00:10:05.010+1000\u001b[0m] {\u001b[34mdoc_db.py:\u001b[0m17} INFO\u001b[0m - Connecting to ph-docdb.ap-southeast-2.qa.predictivehire.com:27017 with user readwriteuserli\u001b[0m\n",
      "[\u001b[34m2024-09-11T00:10:05.084+1000\u001b[0m] {\u001b[34mbackfill_job_requisition_status.py:\u001b[0m23} INFO\u001b[0m - Getting job requisition ids for page 106\u001b[0m\n",
      "[\u001b[34m2024-09-11T00:10:05.085+1000\u001b[0m] {\u001b[34mdoc_db.py:\u001b[0m17} INFO\u001b[0m - Connecting to ph-docdb.ap-southeast-2.qa.predictivehire.com:27017 with user readwriteuserli\u001b[0m\n",
      "[\u001b[34m2024-09-11T00:10:05.167+1000\u001b[0m] {\u001b[34mbackfill_job_requisition_status.py:\u001b[0m23} INFO\u001b[0m - Getting job requisition ids for page 107\u001b[0m\n",
      "[\u001b[34m2024-09-11T00:10:05.168+1000\u001b[0m] {\u001b[34mdoc_db.py:\u001b[0m17} INFO\u001b[0m - Connecting to ph-docdb.ap-southeast-2.qa.predictivehire.com:27017 with user readwriteuserli\u001b[0m\n",
      "[\u001b[34m2024-09-11T00:10:05.275+1000\u001b[0m] {\u001b[34mbackfill_job_requisition_status.py:\u001b[0m23} INFO\u001b[0m - Getting job requisition ids for page 108\u001b[0m\n",
      "[\u001b[34m2024-09-11T00:10:05.276+1000\u001b[0m] {\u001b[34mdoc_db.py:\u001b[0m17} INFO\u001b[0m - Connecting to ph-docdb.ap-southeast-2.qa.predictivehire.com:27017 with user readwriteuserli\u001b[0m\n",
      "[\u001b[34m2024-09-11T00:10:05.335+1000\u001b[0m] {\u001b[34mbackfill_job_requisition_status.py:\u001b[0m23} INFO\u001b[0m - Getting job requisition ids for page 109\u001b[0m\n",
      "[\u001b[34m2024-09-11T00:10:05.336+1000\u001b[0m] {\u001b[34mdoc_db.py:\u001b[0m17} INFO\u001b[0m - Connecting to ph-docdb.ap-southeast-2.qa.predictivehire.com:27017 with user readwriteuserli\u001b[0m\n",
      "[\u001b[34m2024-09-11T00:10:05.401+1000\u001b[0m] {\u001b[34mbackfill_job_requisition_status.py:\u001b[0m23} INFO\u001b[0m - Getting job requisition ids for page 110\u001b[0m\n",
      "[\u001b[34m2024-09-11T00:10:05.402+1000\u001b[0m] {\u001b[34mdoc_db.py:\u001b[0m17} INFO\u001b[0m - Connecting to ph-docdb.ap-southeast-2.qa.predictivehire.com:27017 with user readwriteuserli\u001b[0m\n",
      "[\u001b[34m2024-09-11T00:10:05.488+1000\u001b[0m] {\u001b[34mbackfill_job_requisition_status.py:\u001b[0m23} INFO\u001b[0m - Getting job requisition ids for page 111\u001b[0m\n",
      "[\u001b[34m2024-09-11T00:10:05.490+1000\u001b[0m] {\u001b[34mdoc_db.py:\u001b[0m17} INFO\u001b[0m - Connecting to ph-docdb.ap-southeast-2.qa.predictivehire.com:27017 with user readwriteuserli\u001b[0m\n",
      "[\u001b[34m2024-09-11T00:10:05.551+1000\u001b[0m] {\u001b[34mbackfill_job_requisition_status.py:\u001b[0m23} INFO\u001b[0m - Getting job requisition ids for page 112\u001b[0m\n",
      "[\u001b[34m2024-09-11T00:10:05.551+1000\u001b[0m] {\u001b[34mdoc_db.py:\u001b[0m17} INFO\u001b[0m - Connecting to ph-docdb.ap-southeast-2.qa.predictivehire.com:27017 with user readwriteuserli\u001b[0m\n",
      "[\u001b[34m2024-09-11T00:10:05.610+1000\u001b[0m] {\u001b[34mbackfill_job_requisition_status.py:\u001b[0m23} INFO\u001b[0m - Getting job requisition ids for page 113\u001b[0m\n",
      "[\u001b[34m2024-09-11T00:10:05.611+1000\u001b[0m] {\u001b[34mdoc_db.py:\u001b[0m17} INFO\u001b[0m - Connecting to ph-docdb.ap-southeast-2.qa.predictivehire.com:27017 with user readwriteuserli\u001b[0m\n",
      "[\u001b[34m2024-09-11T00:10:05.692+1000\u001b[0m] {\u001b[34mbackfill_job_requisition_status.py:\u001b[0m23} INFO\u001b[0m - Getting job requisition ids for page 114\u001b[0m\n",
      "[\u001b[34m2024-09-11T00:10:05.693+1000\u001b[0m] {\u001b[34mdoc_db.py:\u001b[0m17} INFO\u001b[0m - Connecting to ph-docdb.ap-southeast-2.qa.predictivehire.com:27017 with user readwriteuserli\u001b[0m\n",
      "[\u001b[34m2024-09-11T00:10:05.759+1000\u001b[0m] {\u001b[34mbackfill_job_requisition_status.py:\u001b[0m23} INFO\u001b[0m - Getting job requisition ids for page 115\u001b[0m\n",
      "[\u001b[34m2024-09-11T00:10:05.761+1000\u001b[0m] {\u001b[34mdoc_db.py:\u001b[0m17} INFO\u001b[0m - Connecting to ph-docdb.ap-southeast-2.qa.predictivehire.com:27017 with user readwriteuserli\u001b[0m\n",
      "[\u001b[34m2024-09-11T00:10:05.824+1000\u001b[0m] {\u001b[34mbackfill_job_requisition_status.py:\u001b[0m23} INFO\u001b[0m - Getting job requisition ids for page 116\u001b[0m\n",
      "[\u001b[34m2024-09-11T00:10:05.825+1000\u001b[0m] {\u001b[34mdoc_db.py:\u001b[0m17} INFO\u001b[0m - Connecting to ph-docdb.ap-southeast-2.qa.predictivehire.com:27017 with user readwriteuserli\u001b[0m\n",
      "[\u001b[34m2024-09-11T00:10:05.896+1000\u001b[0m] {\u001b[34mbackfill_job_requisition_status.py:\u001b[0m23} INFO\u001b[0m - Getting job requisition ids for page 117\u001b[0m\n",
      "[\u001b[34m2024-09-11T00:10:05.898+1000\u001b[0m] {\u001b[34mdoc_db.py:\u001b[0m17} INFO\u001b[0m - Connecting to ph-docdb.ap-southeast-2.qa.predictivehire.com:27017 with user readwriteuserli\u001b[0m\n",
      "[\u001b[34m2024-09-11T00:10:05.958+1000\u001b[0m] {\u001b[34mbackfill_job_requisition_status.py:\u001b[0m23} INFO\u001b[0m - Getting job requisition ids for page 118\u001b[0m\n",
      "[\u001b[34m2024-09-11T00:10:05.959+1000\u001b[0m] {\u001b[34mdoc_db.py:\u001b[0m17} INFO\u001b[0m - Connecting to ph-docdb.ap-southeast-2.qa.predictivehire.com:27017 with user readwriteuserli\u001b[0m\n",
      "[\u001b[34m2024-09-11T00:10:06.078+1000\u001b[0m] {\u001b[34mbackfill_job_requisition_status.py:\u001b[0m23} INFO\u001b[0m - Getting job requisition ids for page 119\u001b[0m\n",
      "[\u001b[34m2024-09-11T00:10:06.079+1000\u001b[0m] {\u001b[34mdoc_db.py:\u001b[0m17} INFO\u001b[0m - Connecting to ph-docdb.ap-southeast-2.qa.predictivehire.com:27017 with user readwriteuserli\u001b[0m\n",
      "[\u001b[34m2024-09-11T00:10:06.177+1000\u001b[0m] {\u001b[34mbackfill_job_requisition_status.py:\u001b[0m23} INFO\u001b[0m - Getting job requisition ids for page 120\u001b[0m\n",
      "[\u001b[34m2024-09-11T00:10:06.178+1000\u001b[0m] {\u001b[34mdoc_db.py:\u001b[0m17} INFO\u001b[0m - Connecting to ph-docdb.ap-southeast-2.qa.predictivehire.com:27017 with user readwriteuserli\u001b[0m\n",
      "[\u001b[34m2024-09-11T00:10:06.348+1000\u001b[0m] {\u001b[34mbackfill_job_requisition_status.py:\u001b[0m23} INFO\u001b[0m - Getting job requisition ids for page 121\u001b[0m\n",
      "[\u001b[34m2024-09-11T00:10:06.349+1000\u001b[0m] {\u001b[34mdoc_db.py:\u001b[0m17} INFO\u001b[0m - Connecting to ph-docdb.ap-southeast-2.qa.predictivehire.com:27017 with user readwriteuserli\u001b[0m\n",
      "[\u001b[34m2024-09-11T00:10:06.490+1000\u001b[0m] {\u001b[34mbackfill_job_requisition_status.py:\u001b[0m23} INFO\u001b[0m - Getting job requisition ids for page 122\u001b[0m\n",
      "[\u001b[34m2024-09-11T00:10:06.491+1000\u001b[0m] {\u001b[34mdoc_db.py:\u001b[0m17} INFO\u001b[0m - Connecting to ph-docdb.ap-southeast-2.qa.predictivehire.com:27017 with user readwriteuserli\u001b[0m\n",
      "[\u001b[34m2024-09-11T00:10:06.574+1000\u001b[0m] {\u001b[34mbackfill_job_requisition_status.py:\u001b[0m23} INFO\u001b[0m - Getting job requisition ids for page 123\u001b[0m\n",
      "[\u001b[34m2024-09-11T00:10:06.575+1000\u001b[0m] {\u001b[34mdoc_db.py:\u001b[0m17} INFO\u001b[0m - Connecting to ph-docdb.ap-southeast-2.qa.predictivehire.com:27017 with user readwriteuserli\u001b[0m\n",
      "[\u001b[34m2024-09-11T00:10:06.638+1000\u001b[0m] {\u001b[34mbackfill_job_requisition_status.py:\u001b[0m23} INFO\u001b[0m - Getting job requisition ids for page 124\u001b[0m\n",
      "[\u001b[34m2024-09-11T00:10:06.638+1000\u001b[0m] {\u001b[34mdoc_db.py:\u001b[0m17} INFO\u001b[0m - Connecting to ph-docdb.ap-southeast-2.qa.predictivehire.com:27017 with user readwriteuserli\u001b[0m\n",
      "[\u001b[34m2024-09-11T00:10:06.709+1000\u001b[0m] {\u001b[34mbackfill_job_requisition_status.py:\u001b[0m23} INFO\u001b[0m - Getting job requisition ids for page 125\u001b[0m\n",
      "[\u001b[34m2024-09-11T00:10:06.710+1000\u001b[0m] {\u001b[34mdoc_db.py:\u001b[0m17} INFO\u001b[0m - Connecting to ph-docdb.ap-southeast-2.qa.predictivehire.com:27017 with user readwriteuserli\u001b[0m\n",
      "[\u001b[34m2024-09-11T00:10:06.783+1000\u001b[0m] {\u001b[34mbackfill_job_requisition_status.py:\u001b[0m23} INFO\u001b[0m - Getting job requisition ids for page 126\u001b[0m\n",
      "[\u001b[34m2024-09-11T00:10:06.784+1000\u001b[0m] {\u001b[34mdoc_db.py:\u001b[0m17} INFO\u001b[0m - Connecting to ph-docdb.ap-southeast-2.qa.predictivehire.com:27017 with user readwriteuserli\u001b[0m\n",
      "[\u001b[34m2024-09-11T00:10:06.849+1000\u001b[0m] {\u001b[34mbackfill_job_requisition_status.py:\u001b[0m23} INFO\u001b[0m - Getting job requisition ids for page 127\u001b[0m\n",
      "[\u001b[34m2024-09-11T00:10:06.850+1000\u001b[0m] {\u001b[34mdoc_db.py:\u001b[0m17} INFO\u001b[0m - Connecting to ph-docdb.ap-southeast-2.qa.predictivehire.com:27017 with user readwriteuserli\u001b[0m\n",
      "[\u001b[34m2024-09-11T00:10:06.946+1000\u001b[0m] {\u001b[34mbackfill_job_requisition_status.py:\u001b[0m23} INFO\u001b[0m - Getting job requisition ids for page 128\u001b[0m\n",
      "[\u001b[34m2024-09-11T00:10:06.947+1000\u001b[0m] {\u001b[34mdoc_db.py:\u001b[0m17} INFO\u001b[0m - Connecting to ph-docdb.ap-southeast-2.qa.predictivehire.com:27017 with user readwriteuserli\u001b[0m\n",
      "[\u001b[34m2024-09-11T00:10:07.017+1000\u001b[0m] {\u001b[34mbackfill_job_requisition_status.py:\u001b[0m23} INFO\u001b[0m - Getting job requisition ids for page 129\u001b[0m\n",
      "[\u001b[34m2024-09-11T00:10:07.017+1000\u001b[0m] {\u001b[34mdoc_db.py:\u001b[0m17} INFO\u001b[0m - Connecting to ph-docdb.ap-southeast-2.qa.predictivehire.com:27017 with user readwriteuserli\u001b[0m\n",
      "[\u001b[34m2024-09-11T00:10:07.084+1000\u001b[0m] {\u001b[34mbackfill_job_requisition_status.py:\u001b[0m23} INFO\u001b[0m - Getting job requisition ids for page 130\u001b[0m\n",
      "[\u001b[34m2024-09-11T00:10:07.085+1000\u001b[0m] {\u001b[34mdoc_db.py:\u001b[0m17} INFO\u001b[0m - Connecting to ph-docdb.ap-southeast-2.qa.predictivehire.com:27017 with user readwriteuserli\u001b[0m\n"
     ]
    }
   ],
   "source": [
    "from dags.etl_scripts.backfill_job_requisition_status import get_job_requisition_id_batches\n",
    "\n",
    "batches = get_job_requisition_id_batches({})"
   ]
  },
  {
   "cell_type": "code",
   "execution_count": null,
   "metadata": {},
   "outputs": [],
   "source": [
    "# get the first element of batches\n",
    "batch = batches[0]\n",
    "\n",
    "# unique ids from batch\n",
    "\n",
    "len(batch)"
   ]
  },
  {
   "cell_type": "code",
   "execution_count": null,
   "metadata": {},
   "outputs": [],
   "source": [
    "# unique ids from batches[0]\n",
    "len(set(batch))"
   ]
  },
  {
   "cell_type": "code",
   "execution_count": null,
   "metadata": {},
   "outputs": [],
   "source": [
    "from dags.etl_scripts.apis.core_li_job_requisition import recalculate_job_requisition_status\n",
    "\n",
    "for job_requisition_id in batch:\n",
    "    recalculate_job_requisition_status(job_requisition_id)"
   ]
  },
  {
   "cell_type": "code",
   "execution_count": null,
   "metadata": {},
   "outputs": [],
   "source": [
    "len(batch)"
   ]
  },
  {
   "cell_type": "code",
   "execution_count": null,
   "metadata": {},
   "outputs": [],
   "source": []
  }
 ],
 "metadata": {
  "kernelspec": {
   "display_name": ".venv",
   "language": "python",
   "name": "python3"
  },
  "language_info": {
   "codemirror_mode": {
    "name": "ipython",
    "version": 3
   },
   "file_extension": ".py",
   "mimetype": "text/x-python",
   "name": "python",
   "nbconvert_exporter": "python",
   "pygments_lexer": "ipython3",
   "version": "3.10.2"
  }
 },
 "nbformat": 4,
 "nbformat_minor": 2
}
